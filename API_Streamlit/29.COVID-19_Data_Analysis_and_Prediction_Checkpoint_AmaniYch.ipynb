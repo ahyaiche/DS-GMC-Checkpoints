{
 "cells": [
  {
   "cell_type": "markdown",
   "metadata": {},
   "source": [
    "# Checkpoint Objective\n",
    "You have been tasked to gather COVID-19 data from the API of your choice that contains both noise and valuable data. After that, you will clean and pre-process the data, perform exploratory data analysis (EDA) to gain insights, and select the best-suited supervised algorithm to predict the future number of cases. Finally, you will deploy the model using Streamlit.\n",
    "\n",
    "Hints:\n",
    "1. Use the requests library to fetch data from the API.\n",
    "2. Use the Pandas library to store the data in a DataFrame and clean it.\n",
    "3. Use the plotly  library to create visualizations.\n",
    "4. Use the Scikit-learn library to build and optimize the model.\n",
    "5. Use the Streamlit library to create the user interface.\n",
    " "
   ]
  },
  {
   "cell_type": "code",
   "execution_count": 1,
   "metadata": {},
   "outputs": [],
   "source": [
    "# Import libraries\n",
    "import requests\n",
    "import numpy as np\n",
    "import pandas as pd\n",
    "from sklearn.preprocessing import StandardScaler\n",
    "import plotly.express as px\n",
    "from sklearn.model_selection import train_test_split, cross_val_score, GridSearchCV\n",
    "from sklearn.linear_model import LinearRegression\n",
    "from sklearn.metrics import mean_squared_error, r2_score, accuracy_score\n",
    "import joblib"
   ]
  },
  {
   "cell_type": "markdown",
   "metadata": {},
   "source": [
    "#### 1. Choose a COVID-19 API of your choice that contains both valuable data and noise."
   ]
  },
  {
   "cell_type": "code",
   "execution_count": 2,
   "metadata": {},
   "outputs": [],
   "source": [
    "api_url = \"https://api.covidtracking.com/v1/us/daily.json\""
   ]
  },
  {
   "cell_type": "markdown",
   "metadata": {},
   "source": [
    "#### 2. Use Python to gather the data from the API and store it in a Pandas DataFrame."
   ]
  },
  {
   "cell_type": "code",
   "execution_count": 3,
   "metadata": {},
   "outputs": [
    {
     "data": {
      "text/html": [
       "<div>\n",
       "<style scoped>\n",
       "    .dataframe tbody tr th:only-of-type {\n",
       "        vertical-align: middle;\n",
       "    }\n",
       "\n",
       "    .dataframe tbody tr th {\n",
       "        vertical-align: top;\n",
       "    }\n",
       "\n",
       "    .dataframe thead th {\n",
       "        text-align: right;\n",
       "    }\n",
       "</style>\n",
       "<table border=\"1\" class=\"dataframe\">\n",
       "  <thead>\n",
       "    <tr style=\"text-align: right;\">\n",
       "      <th></th>\n",
       "      <th>date</th>\n",
       "      <th>states</th>\n",
       "      <th>positive</th>\n",
       "      <th>negative</th>\n",
       "      <th>pending</th>\n",
       "      <th>hospitalizedCurrently</th>\n",
       "      <th>hospitalizedCumulative</th>\n",
       "      <th>inIcuCurrently</th>\n",
       "      <th>inIcuCumulative</th>\n",
       "      <th>onVentilatorCurrently</th>\n",
       "      <th>onVentilatorCumulative</th>\n",
       "      <th>dateChecked</th>\n",
       "      <th>death</th>\n",
       "      <th>hospitalized</th>\n",
       "      <th>totalTestResults</th>\n",
       "      <th>lastModified</th>\n",
       "      <th>recovered</th>\n",
       "      <th>total</th>\n",
       "      <th>posNeg</th>\n",
       "      <th>deathIncrease</th>\n",
       "      <th>hospitalizedIncrease</th>\n",
       "      <th>negativeIncrease</th>\n",
       "      <th>positiveIncrease</th>\n",
       "      <th>totalTestResultsIncrease</th>\n",
       "      <th>hash</th>\n",
       "    </tr>\n",
       "  </thead>\n",
       "  <tbody>\n",
       "    <tr>\n",
       "      <th>0</th>\n",
       "      <td>20210307</td>\n",
       "      <td>56</td>\n",
       "      <td>28756489.0</td>\n",
       "      <td>74582825.0</td>\n",
       "      <td>11808.0</td>\n",
       "      <td>40199.0</td>\n",
       "      <td>776361.0</td>\n",
       "      <td>8134.0</td>\n",
       "      <td>45475.0</td>\n",
       "      <td>2802.0</td>\n",
       "      <td>4281.0</td>\n",
       "      <td>2021-03-07T24:00:00Z</td>\n",
       "      <td>515151.0</td>\n",
       "      <td>776361.0</td>\n",
       "      <td>363825123</td>\n",
       "      <td>2021-03-07T24:00:00Z</td>\n",
       "      <td>None</td>\n",
       "      <td>0</td>\n",
       "      <td>0</td>\n",
       "      <td>842</td>\n",
       "      <td>726</td>\n",
       "      <td>131835</td>\n",
       "      <td>41835</td>\n",
       "      <td>1170059</td>\n",
       "      <td>a80d0063822e251249fd9a44730c49cb23defd83</td>\n",
       "    </tr>\n",
       "    <tr>\n",
       "      <th>1</th>\n",
       "      <td>20210306</td>\n",
       "      <td>56</td>\n",
       "      <td>28714654.0</td>\n",
       "      <td>74450990.0</td>\n",
       "      <td>11783.0</td>\n",
       "      <td>41401.0</td>\n",
       "      <td>775635.0</td>\n",
       "      <td>8409.0</td>\n",
       "      <td>45453.0</td>\n",
       "      <td>2811.0</td>\n",
       "      <td>4280.0</td>\n",
       "      <td>2021-03-06T24:00:00Z</td>\n",
       "      <td>514309.0</td>\n",
       "      <td>775635.0</td>\n",
       "      <td>362655064</td>\n",
       "      <td>2021-03-06T24:00:00Z</td>\n",
       "      <td>None</td>\n",
       "      <td>0</td>\n",
       "      <td>0</td>\n",
       "      <td>1680</td>\n",
       "      <td>503</td>\n",
       "      <td>143835</td>\n",
       "      <td>60015</td>\n",
       "      <td>1430992</td>\n",
       "      <td>dae5e558c24adb86686bbd58c08cce5f610b8bb0</td>\n",
       "    </tr>\n",
       "    <tr>\n",
       "      <th>2</th>\n",
       "      <td>20210305</td>\n",
       "      <td>56</td>\n",
       "      <td>28654639.0</td>\n",
       "      <td>74307155.0</td>\n",
       "      <td>12213.0</td>\n",
       "      <td>42541.0</td>\n",
       "      <td>775132.0</td>\n",
       "      <td>8634.0</td>\n",
       "      <td>45373.0</td>\n",
       "      <td>2889.0</td>\n",
       "      <td>4275.0</td>\n",
       "      <td>2021-03-05T24:00:00Z</td>\n",
       "      <td>512629.0</td>\n",
       "      <td>775132.0</td>\n",
       "      <td>361224072</td>\n",
       "      <td>2021-03-05T24:00:00Z</td>\n",
       "      <td>None</td>\n",
       "      <td>0</td>\n",
       "      <td>0</td>\n",
       "      <td>2221</td>\n",
       "      <td>2781</td>\n",
       "      <td>271917</td>\n",
       "      <td>68787</td>\n",
       "      <td>1744417</td>\n",
       "      <td>724844c01659d0103801c57c0f72bf8cc8ab025c</td>\n",
       "    </tr>\n",
       "    <tr>\n",
       "      <th>3</th>\n",
       "      <td>20210304</td>\n",
       "      <td>56</td>\n",
       "      <td>28585852.0</td>\n",
       "      <td>74035238.0</td>\n",
       "      <td>12405.0</td>\n",
       "      <td>44172.0</td>\n",
       "      <td>772351.0</td>\n",
       "      <td>8970.0</td>\n",
       "      <td>45293.0</td>\n",
       "      <td>2973.0</td>\n",
       "      <td>4267.0</td>\n",
       "      <td>2021-03-04T24:00:00Z</td>\n",
       "      <td>510408.0</td>\n",
       "      <td>772351.0</td>\n",
       "      <td>359479655</td>\n",
       "      <td>2021-03-04T24:00:00Z</td>\n",
       "      <td>None</td>\n",
       "      <td>0</td>\n",
       "      <td>0</td>\n",
       "      <td>1743</td>\n",
       "      <td>1530</td>\n",
       "      <td>177957</td>\n",
       "      <td>65487</td>\n",
       "      <td>1590984</td>\n",
       "      <td>5c549ad30f9abf48dc5de36d20fa707014be1ff3</td>\n",
       "    </tr>\n",
       "    <tr>\n",
       "      <th>4</th>\n",
       "      <td>20210303</td>\n",
       "      <td>56</td>\n",
       "      <td>28520365.0</td>\n",
       "      <td>73857281.0</td>\n",
       "      <td>11778.0</td>\n",
       "      <td>45462.0</td>\n",
       "      <td>770821.0</td>\n",
       "      <td>9359.0</td>\n",
       "      <td>45214.0</td>\n",
       "      <td>3094.0</td>\n",
       "      <td>4260.0</td>\n",
       "      <td>2021-03-03T24:00:00Z</td>\n",
       "      <td>508665.0</td>\n",
       "      <td>770821.0</td>\n",
       "      <td>357888671</td>\n",
       "      <td>2021-03-03T24:00:00Z</td>\n",
       "      <td>None</td>\n",
       "      <td>0</td>\n",
       "      <td>0</td>\n",
       "      <td>2449</td>\n",
       "      <td>2172</td>\n",
       "      <td>267001</td>\n",
       "      <td>66836</td>\n",
       "      <td>1406795</td>\n",
       "      <td>fef6c425d2b773a9221fe353f13852f3e4a4bfb0</td>\n",
       "    </tr>\n",
       "  </tbody>\n",
       "</table>\n",
       "</div>"
      ],
      "text/plain": [
       "       date  states    positive    negative  pending  hospitalizedCurrently  \\\n",
       "0  20210307      56  28756489.0  74582825.0  11808.0                40199.0   \n",
       "1  20210306      56  28714654.0  74450990.0  11783.0                41401.0   \n",
       "2  20210305      56  28654639.0  74307155.0  12213.0                42541.0   \n",
       "3  20210304      56  28585852.0  74035238.0  12405.0                44172.0   \n",
       "4  20210303      56  28520365.0  73857281.0  11778.0                45462.0   \n",
       "\n",
       "   hospitalizedCumulative  inIcuCurrently  inIcuCumulative  \\\n",
       "0                776361.0          8134.0          45475.0   \n",
       "1                775635.0          8409.0          45453.0   \n",
       "2                775132.0          8634.0          45373.0   \n",
       "3                772351.0          8970.0          45293.0   \n",
       "4                770821.0          9359.0          45214.0   \n",
       "\n",
       "   onVentilatorCurrently  onVentilatorCumulative           dateChecked  \\\n",
       "0                 2802.0                  4281.0  2021-03-07T24:00:00Z   \n",
       "1                 2811.0                  4280.0  2021-03-06T24:00:00Z   \n",
       "2                 2889.0                  4275.0  2021-03-05T24:00:00Z   \n",
       "3                 2973.0                  4267.0  2021-03-04T24:00:00Z   \n",
       "4                 3094.0                  4260.0  2021-03-03T24:00:00Z   \n",
       "\n",
       "      death  hospitalized  totalTestResults          lastModified recovered  \\\n",
       "0  515151.0      776361.0         363825123  2021-03-07T24:00:00Z      None   \n",
       "1  514309.0      775635.0         362655064  2021-03-06T24:00:00Z      None   \n",
       "2  512629.0      775132.0         361224072  2021-03-05T24:00:00Z      None   \n",
       "3  510408.0      772351.0         359479655  2021-03-04T24:00:00Z      None   \n",
       "4  508665.0      770821.0         357888671  2021-03-03T24:00:00Z      None   \n",
       "\n",
       "   total  posNeg  deathIncrease  hospitalizedIncrease  negativeIncrease  \\\n",
       "0      0       0            842                   726            131835   \n",
       "1      0       0           1680                   503            143835   \n",
       "2      0       0           2221                  2781            271917   \n",
       "3      0       0           1743                  1530            177957   \n",
       "4      0       0           2449                  2172            267001   \n",
       "\n",
       "   positiveIncrease  totalTestResultsIncrease  \\\n",
       "0             41835                   1170059   \n",
       "1             60015                   1430992   \n",
       "2             68787                   1744417   \n",
       "3             65487                   1590984   \n",
       "4             66836                   1406795   \n",
       "\n",
       "                                       hash  \n",
       "0  a80d0063822e251249fd9a44730c49cb23defd83  \n",
       "1  dae5e558c24adb86686bbd58c08cce5f610b8bb0  \n",
       "2  724844c01659d0103801c57c0f72bf8cc8ab025c  \n",
       "3  5c549ad30f9abf48dc5de36d20fa707014be1ff3  \n",
       "4  fef6c425d2b773a9221fe353f13852f3e4a4bfb0  "
      ]
     },
     "execution_count": 3,
     "metadata": {},
     "output_type": "execute_result"
    }
   ],
   "source": [
    "response = requests.get(api_url)\n",
    "data = response.json()\n",
    "dt = pd.DataFrame(data)\n",
    "pd.set_option('display.max_columns', None)\n",
    "dt.head()"
   ]
  },
  {
   "cell_type": "markdown",
   "metadata": {},
   "source": [
    "#### 3. Clean the data by removing any irrelevant columns, null values, or duplicates."
   ]
  },
  {
   "cell_type": "code",
   "execution_count": 4,
   "metadata": {},
   "outputs": [
    {
     "data": {
      "text/html": [
       "<div>\n",
       "<style scoped>\n",
       "    .dataframe tbody tr th:only-of-type {\n",
       "        vertical-align: middle;\n",
       "    }\n",
       "\n",
       "    .dataframe tbody tr th {\n",
       "        vertical-align: top;\n",
       "    }\n",
       "\n",
       "    .dataframe thead th {\n",
       "        text-align: right;\n",
       "    }\n",
       "</style>\n",
       "<table border=\"1\" class=\"dataframe\">\n",
       "  <thead>\n",
       "    <tr style=\"text-align: right;\">\n",
       "      <th></th>\n",
       "      <th>date</th>\n",
       "      <th>positive</th>\n",
       "      <th>negative</th>\n",
       "      <th>hospitalizedCurrently</th>\n",
       "      <th>death</th>\n",
       "    </tr>\n",
       "  </thead>\n",
       "  <tbody>\n",
       "    <tr>\n",
       "      <th>0</th>\n",
       "      <td>20210307</td>\n",
       "      <td>28756489.0</td>\n",
       "      <td>74582825.0</td>\n",
       "      <td>40199.0</td>\n",
       "      <td>515151.0</td>\n",
       "    </tr>\n",
       "    <tr>\n",
       "      <th>1</th>\n",
       "      <td>20210306</td>\n",
       "      <td>28714654.0</td>\n",
       "      <td>74450990.0</td>\n",
       "      <td>41401.0</td>\n",
       "      <td>514309.0</td>\n",
       "    </tr>\n",
       "    <tr>\n",
       "      <th>2</th>\n",
       "      <td>20210305</td>\n",
       "      <td>28654639.0</td>\n",
       "      <td>74307155.0</td>\n",
       "      <td>42541.0</td>\n",
       "      <td>512629.0</td>\n",
       "    </tr>\n",
       "    <tr>\n",
       "      <th>3</th>\n",
       "      <td>20210304</td>\n",
       "      <td>28585852.0</td>\n",
       "      <td>74035238.0</td>\n",
       "      <td>44172.0</td>\n",
       "      <td>510408.0</td>\n",
       "    </tr>\n",
       "    <tr>\n",
       "      <th>4</th>\n",
       "      <td>20210303</td>\n",
       "      <td>28520365.0</td>\n",
       "      <td>73857281.0</td>\n",
       "      <td>45462.0</td>\n",
       "      <td>508665.0</td>\n",
       "    </tr>\n",
       "    <tr>\n",
       "      <th>...</th>\n",
       "      <td>...</td>\n",
       "      <td>...</td>\n",
       "      <td>...</td>\n",
       "      <td>...</td>\n",
       "      <td>...</td>\n",
       "    </tr>\n",
       "    <tr>\n",
       "      <th>351</th>\n",
       "      <td>20200321</td>\n",
       "      <td>30580.0</td>\n",
       "      <td>67803.0</td>\n",
       "      <td>1492.0</td>\n",
       "      <td>335.0</td>\n",
       "    </tr>\n",
       "    <tr>\n",
       "      <th>352</th>\n",
       "      <td>20200320</td>\n",
       "      <td>23640.0</td>\n",
       "      <td>51743.0</td>\n",
       "      <td>1042.0</td>\n",
       "      <td>273.0</td>\n",
       "    </tr>\n",
       "    <tr>\n",
       "      <th>353</th>\n",
       "      <td>20200319</td>\n",
       "      <td>17540.0</td>\n",
       "      <td>39938.0</td>\n",
       "      <td>617.0</td>\n",
       "      <td>203.0</td>\n",
       "    </tr>\n",
       "    <tr>\n",
       "      <th>354</th>\n",
       "      <td>20200318</td>\n",
       "      <td>12934.0</td>\n",
       "      <td>31577.0</td>\n",
       "      <td>416.0</td>\n",
       "      <td>152.0</td>\n",
       "    </tr>\n",
       "    <tr>\n",
       "      <th>355</th>\n",
       "      <td>20200317</td>\n",
       "      <td>9577.0</td>\n",
       "      <td>26183.0</td>\n",
       "      <td>325.0</td>\n",
       "      <td>126.0</td>\n",
       "    </tr>\n",
       "  </tbody>\n",
       "</table>\n",
       "<p>356 rows × 5 columns</p>\n",
       "</div>"
      ],
      "text/plain": [
       "         date    positive    negative  hospitalizedCurrently     death\n",
       "0    20210307  28756489.0  74582825.0                40199.0  515151.0\n",
       "1    20210306  28714654.0  74450990.0                41401.0  514309.0\n",
       "2    20210305  28654639.0  74307155.0                42541.0  512629.0\n",
       "3    20210304  28585852.0  74035238.0                44172.0  510408.0\n",
       "4    20210303  28520365.0  73857281.0                45462.0  508665.0\n",
       "..        ...         ...         ...                    ...       ...\n",
       "351  20200321     30580.0     67803.0                 1492.0     335.0\n",
       "352  20200320     23640.0     51743.0                 1042.0     273.0\n",
       "353  20200319     17540.0     39938.0                  617.0     203.0\n",
       "354  20200318     12934.0     31577.0                  416.0     152.0\n",
       "355  20200317      9577.0     26183.0                  325.0     126.0\n",
       "\n",
       "[356 rows x 5 columns]"
      ]
     },
     "execution_count": 4,
     "metadata": {},
     "output_type": "execute_result"
    }
   ],
   "source": [
    "# Remove irrelevant columns\n",
    "dt = dt[['date', 'positive', 'negative', 'hospitalizedCurrently', 'death']]\n",
    "\n",
    "# Handle missing values and duplicates (if any)\n",
    "dt = dt.dropna()\n",
    "dt = dt.drop_duplicates()\n",
    "dt"
   ]
  },
  {
   "cell_type": "markdown",
   "metadata": {},
   "source": [
    "#### 4. Pre-process the data by normalizing and scaling the numerical data."
   ]
  },
  {
   "cell_type": "code",
   "execution_count": 5,
   "metadata": {},
   "outputs": [
    {
     "name": "stdout",
     "output_type": "stream",
     "text": [
      "<class 'pandas.core.frame.DataFrame'>\n",
      "Index: 356 entries, 0 to 355\n",
      "Data columns (total 5 columns):\n",
      " #   Column                 Non-Null Count  Dtype  \n",
      "---  ------                 --------------  -----  \n",
      " 0   date                   356 non-null    int64  \n",
      " 1   positive               356 non-null    float64\n",
      " 2   negative               356 non-null    float64\n",
      " 3   hospitalizedCurrently  356 non-null    float64\n",
      " 4   death                  356 non-null    float64\n",
      "dtypes: float64(4), int64(1)\n",
      "memory usage: 16.7 KB\n"
     ]
    }
   ],
   "source": [
    "dt.info()"
   ]
  },
  {
   "cell_type": "markdown",
   "metadata": {},
   "source": [
    "#### 5. Perform EDA to identify trends, correlations, and patterns in the data. Use visualizations such as histograms, scatter plots, and heatmaps to help you understand the data better."
   ]
  },
  {
   "cell_type": "code",
   "execution_count": 6,
   "metadata": {},
   "outputs": [
    {
     "data": {
      "application/vnd.plotly.v1+json": {
       "config": {
        "plotlyServerURL": "https://plot.ly"
       },
       "data": [
        {
         "alignmentgroup": "True",
         "bingroup": "x",
         "histnorm": "probability",
         "hovertemplate": "positive=%{x}<br>probability=%{y}<extra></extra>",
         "legendgroup": "",
         "marker": {
          "color": "#636efa",
          "pattern": {
           "shape": ""
          }
         },
         "name": "",
         "nbinsx": 20,
         "offsetgroup": "",
         "orientation": "v",
         "showlegend": false,
         "type": "histogram",
         "x": [
          28756489,
          28714654,
          28654639,
          28585852,
          28520365,
          28453529,
          28399281,
          28351189,
          28296840,
          28225595,
          28150738,
          28075173,
          28001915,
          27932810,
          27880280,
          27821578,
          27749224,
          27674548,
          27607724,
          27540885,
          27484573,
          27429496,
          27357332,
          27266690,
          27165660,
          27063243,
          26968049,
          26875063,
          26797326,
          26701332,
          26586775,
          26455629,
          26331722,
          26214762,
          26097146,
          25976946,
          25857579,
          25708755,
          25541644,
          25384338,
          25230353,
          25083905,
          24950451,
          24806217,
          24629099,
          24438184,
          24251909,
          24062706,
          23916080,
          23765288,
          23578070,
          23359985,
          23113531,
          22887915,
          22663424,
          22445404,
          22250149,
          22021417,
          21752049,
          21456928,
          21184885,
          20934701,
          20715626,
          20536055,
          20327598,
          20047280,
          19864374,
          19638128,
          19408632,
          19208953,
          19044826,
          18891286,
          18700692,
          18573896,
          18367212,
          18142686,
          17949678,
          17770272,
          17572778,
          17367905,
          17126119,
          16883149,
          16648861,
          16455643,
          16262357,
          16075106,
          15848202,
          15611269,
          15390423,
          15173695,
          14955851,
          14773954,
          14591374,
          14372304,
          14141991,
          13925720,
          13722291,
          13541108,
          13391077,
          13253823,
          13102354,
          12903480,
          12773716,
          12585220,
          12418717,
          12264021,
          12109833,
          11923448,
          11726284,
          11538352,
          11370132,
          11210306,
          11060329,
          10913267,
          10745541,
          10570908,
          10413366,
          10264033,
          10128464,
          10010061,
          9897616,
          9765503,
          9635513,
          9516490,
          9410494,
          9290545,
          9207091,
          9065117,
          8973824,
          8875882,
          8786517,
          8706817,
          8634562,
          8571132,
          8506661,
          8422869,
          8340294,
          8268021,
          8205165,
          8144591,
          8086941,
          8038984,
          7981309,
          7912804,
          7849163,
          7791923,
          7745009,
          7701761,
          7655038,
          7597495,
          7540410,
          7485102,
          7433886,
          7395040,
          7357288,
          7319123,
          7268249,
          7218822,
          7173102,
          7128193,
          7091427,
          7056051,
          7021061,
          6973834,
          6918556,
          6875215,
          6835717,
          6786731,
          6747569,
          6712036,
          6666368,
          6619479,
          6575837,
          6535518,
          6500740,
          6467168,
          6432589,
          6390739,
          6346041,
          6308655,
          6277899,
          6255589,
          6227472,
          6194439,
          6149579,
          6097979,
          6053348,
          6022681,
          5980439,
          5948719,
          5909953,
          5865958,
          5819843,
          5775732,
          5731401,
          5694562,
          5660019,
          5622119,
          5576086,
          5529609,
          5485765,
          5440692,
          5400622,
          5362871,
          5320368,
          5264365,
          5207221,
          5155458,
          5099272,
          5044337,
          5002967,
          4952201,
          4898709,
          4837872,
          4783827,
          4731136,
          4679931,
          4637188,
          4583866,
          4523226,
          4455391,
          4386412,
          4322256,
          4263804,
          4209320,
          4148552,
          4083764,
          4008669,
          3937243,
          3867801,
          3804914,
          3748205,
          3683998,
          3619225,
          3542727,
          3472234,
          3402862,
          3344244,
          3287100,
          3225498,
          3162914,
          3095806,
          3036743,
          2973928,
          2922937,
          2882035,
          2836661,
          2781815,
          2727601,
          2674090,
          2623046,
          2576014,
          2536646,
          2494917,
          2451813,
          2407513,
          2367793,
          2328662,
          2295216,
          2268399,
          2239217,
          2206985,
          2176098,
          2149114,
          2124908,
          2102051,
          2083815,
          2062186,
          2036727,
          2013575,
          1991599,
          1970726,
          1953793,
          1936858,
          1917778,
          1895109,
          1872063,
          1851551,
          1831387,
          1811478,
          1791449,
          1769755,
          1746212,
          1722588,
          1699744,
          1680551,
          1663875,
          1645332,
          1626210,
          1603728,
          1579601,
          1552850,
          1531479,
          1510779,
          1490166,
          1469782,
          1445947,
          1420540,
          1393744,
          1372263,
          1349742,
          1331662,
          1310550,
          1285270,
          1258072,
          1230844,
          1205532,
          1183140,
          1161034,
          1135275,
          1106124,
          1073244,
          1043181,
          1017002,
          991770,
          969366,
          942042,
          901345,
          870128,
          838190,
          808917,
          781563,
          757187,
          730257,
          702684,
          671184,
          639918,
          610084,
          584141,
          560005,
          531837,
          500514,
          466736,
          431744,
          400780,
          370364,
          342104,
          316261,
          283139,
          251304,
          223169,
          196965,
          171965,
          150826,
          131143,
          111358,
          92143,
          74551,
          61894,
          50998,
          39808,
          30580,
          23640,
          17540,
          12934,
          9577
         ],
         "xaxis": "x",
         "yaxis": "y"
        }
       ],
       "layout": {
        "barmode": "relative",
        "legend": {
         "tracegroupgap": 0
        },
        "template": {
         "data": {
          "bar": [
           {
            "error_x": {
             "color": "#2a3f5f"
            },
            "error_y": {
             "color": "#2a3f5f"
            },
            "marker": {
             "line": {
              "color": "#E5ECF6",
              "width": 0.5
             },
             "pattern": {
              "fillmode": "overlay",
              "size": 10,
              "solidity": 0.2
             }
            },
            "type": "bar"
           }
          ],
          "barpolar": [
           {
            "marker": {
             "line": {
              "color": "#E5ECF6",
              "width": 0.5
             },
             "pattern": {
              "fillmode": "overlay",
              "size": 10,
              "solidity": 0.2
             }
            },
            "type": "barpolar"
           }
          ],
          "carpet": [
           {
            "aaxis": {
             "endlinecolor": "#2a3f5f",
             "gridcolor": "white",
             "linecolor": "white",
             "minorgridcolor": "white",
             "startlinecolor": "#2a3f5f"
            },
            "baxis": {
             "endlinecolor": "#2a3f5f",
             "gridcolor": "white",
             "linecolor": "white",
             "minorgridcolor": "white",
             "startlinecolor": "#2a3f5f"
            },
            "type": "carpet"
           }
          ],
          "choropleth": [
           {
            "colorbar": {
             "outlinewidth": 0,
             "ticks": ""
            },
            "type": "choropleth"
           }
          ],
          "contour": [
           {
            "colorbar": {
             "outlinewidth": 0,
             "ticks": ""
            },
            "colorscale": [
             [
              0,
              "#0d0887"
             ],
             [
              0.1111111111111111,
              "#46039f"
             ],
             [
              0.2222222222222222,
              "#7201a8"
             ],
             [
              0.3333333333333333,
              "#9c179e"
             ],
             [
              0.4444444444444444,
              "#bd3786"
             ],
             [
              0.5555555555555556,
              "#d8576b"
             ],
             [
              0.6666666666666666,
              "#ed7953"
             ],
             [
              0.7777777777777778,
              "#fb9f3a"
             ],
             [
              0.8888888888888888,
              "#fdca26"
             ],
             [
              1,
              "#f0f921"
             ]
            ],
            "type": "contour"
           }
          ],
          "contourcarpet": [
           {
            "colorbar": {
             "outlinewidth": 0,
             "ticks": ""
            },
            "type": "contourcarpet"
           }
          ],
          "heatmap": [
           {
            "colorbar": {
             "outlinewidth": 0,
             "ticks": ""
            },
            "colorscale": [
             [
              0,
              "#0d0887"
             ],
             [
              0.1111111111111111,
              "#46039f"
             ],
             [
              0.2222222222222222,
              "#7201a8"
             ],
             [
              0.3333333333333333,
              "#9c179e"
             ],
             [
              0.4444444444444444,
              "#bd3786"
             ],
             [
              0.5555555555555556,
              "#d8576b"
             ],
             [
              0.6666666666666666,
              "#ed7953"
             ],
             [
              0.7777777777777778,
              "#fb9f3a"
             ],
             [
              0.8888888888888888,
              "#fdca26"
             ],
             [
              1,
              "#f0f921"
             ]
            ],
            "type": "heatmap"
           }
          ],
          "heatmapgl": [
           {
            "colorbar": {
             "outlinewidth": 0,
             "ticks": ""
            },
            "colorscale": [
             [
              0,
              "#0d0887"
             ],
             [
              0.1111111111111111,
              "#46039f"
             ],
             [
              0.2222222222222222,
              "#7201a8"
             ],
             [
              0.3333333333333333,
              "#9c179e"
             ],
             [
              0.4444444444444444,
              "#bd3786"
             ],
             [
              0.5555555555555556,
              "#d8576b"
             ],
             [
              0.6666666666666666,
              "#ed7953"
             ],
             [
              0.7777777777777778,
              "#fb9f3a"
             ],
             [
              0.8888888888888888,
              "#fdca26"
             ],
             [
              1,
              "#f0f921"
             ]
            ],
            "type": "heatmapgl"
           }
          ],
          "histogram": [
           {
            "marker": {
             "pattern": {
              "fillmode": "overlay",
              "size": 10,
              "solidity": 0.2
             }
            },
            "type": "histogram"
           }
          ],
          "histogram2d": [
           {
            "colorbar": {
             "outlinewidth": 0,
             "ticks": ""
            },
            "colorscale": [
             [
              0,
              "#0d0887"
             ],
             [
              0.1111111111111111,
              "#46039f"
             ],
             [
              0.2222222222222222,
              "#7201a8"
             ],
             [
              0.3333333333333333,
              "#9c179e"
             ],
             [
              0.4444444444444444,
              "#bd3786"
             ],
             [
              0.5555555555555556,
              "#d8576b"
             ],
             [
              0.6666666666666666,
              "#ed7953"
             ],
             [
              0.7777777777777778,
              "#fb9f3a"
             ],
             [
              0.8888888888888888,
              "#fdca26"
             ],
             [
              1,
              "#f0f921"
             ]
            ],
            "type": "histogram2d"
           }
          ],
          "histogram2dcontour": [
           {
            "colorbar": {
             "outlinewidth": 0,
             "ticks": ""
            },
            "colorscale": [
             [
              0,
              "#0d0887"
             ],
             [
              0.1111111111111111,
              "#46039f"
             ],
             [
              0.2222222222222222,
              "#7201a8"
             ],
             [
              0.3333333333333333,
              "#9c179e"
             ],
             [
              0.4444444444444444,
              "#bd3786"
             ],
             [
              0.5555555555555556,
              "#d8576b"
             ],
             [
              0.6666666666666666,
              "#ed7953"
             ],
             [
              0.7777777777777778,
              "#fb9f3a"
             ],
             [
              0.8888888888888888,
              "#fdca26"
             ],
             [
              1,
              "#f0f921"
             ]
            ],
            "type": "histogram2dcontour"
           }
          ],
          "mesh3d": [
           {
            "colorbar": {
             "outlinewidth": 0,
             "ticks": ""
            },
            "type": "mesh3d"
           }
          ],
          "parcoords": [
           {
            "line": {
             "colorbar": {
              "outlinewidth": 0,
              "ticks": ""
             }
            },
            "type": "parcoords"
           }
          ],
          "pie": [
           {
            "automargin": true,
            "type": "pie"
           }
          ],
          "scatter": [
           {
            "fillpattern": {
             "fillmode": "overlay",
             "size": 10,
             "solidity": 0.2
            },
            "type": "scatter"
           }
          ],
          "scatter3d": [
           {
            "line": {
             "colorbar": {
              "outlinewidth": 0,
              "ticks": ""
             }
            },
            "marker": {
             "colorbar": {
              "outlinewidth": 0,
              "ticks": ""
             }
            },
            "type": "scatter3d"
           }
          ],
          "scattercarpet": [
           {
            "marker": {
             "colorbar": {
              "outlinewidth": 0,
              "ticks": ""
             }
            },
            "type": "scattercarpet"
           }
          ],
          "scattergeo": [
           {
            "marker": {
             "colorbar": {
              "outlinewidth": 0,
              "ticks": ""
             }
            },
            "type": "scattergeo"
           }
          ],
          "scattergl": [
           {
            "marker": {
             "colorbar": {
              "outlinewidth": 0,
              "ticks": ""
             }
            },
            "type": "scattergl"
           }
          ],
          "scattermapbox": [
           {
            "marker": {
             "colorbar": {
              "outlinewidth": 0,
              "ticks": ""
             }
            },
            "type": "scattermapbox"
           }
          ],
          "scatterpolar": [
           {
            "marker": {
             "colorbar": {
              "outlinewidth": 0,
              "ticks": ""
             }
            },
            "type": "scatterpolar"
           }
          ],
          "scatterpolargl": [
           {
            "marker": {
             "colorbar": {
              "outlinewidth": 0,
              "ticks": ""
             }
            },
            "type": "scatterpolargl"
           }
          ],
          "scatterternary": [
           {
            "marker": {
             "colorbar": {
              "outlinewidth": 0,
              "ticks": ""
             }
            },
            "type": "scatterternary"
           }
          ],
          "surface": [
           {
            "colorbar": {
             "outlinewidth": 0,
             "ticks": ""
            },
            "colorscale": [
             [
              0,
              "#0d0887"
             ],
             [
              0.1111111111111111,
              "#46039f"
             ],
             [
              0.2222222222222222,
              "#7201a8"
             ],
             [
              0.3333333333333333,
              "#9c179e"
             ],
             [
              0.4444444444444444,
              "#bd3786"
             ],
             [
              0.5555555555555556,
              "#d8576b"
             ],
             [
              0.6666666666666666,
              "#ed7953"
             ],
             [
              0.7777777777777778,
              "#fb9f3a"
             ],
             [
              0.8888888888888888,
              "#fdca26"
             ],
             [
              1,
              "#f0f921"
             ]
            ],
            "type": "surface"
           }
          ],
          "table": [
           {
            "cells": {
             "fill": {
              "color": "#EBF0F8"
             },
             "line": {
              "color": "white"
             }
            },
            "header": {
             "fill": {
              "color": "#C8D4E3"
             },
             "line": {
              "color": "white"
             }
            },
            "type": "table"
           }
          ]
         },
         "layout": {
          "annotationdefaults": {
           "arrowcolor": "#2a3f5f",
           "arrowhead": 0,
           "arrowwidth": 1
          },
          "autotypenumbers": "strict",
          "coloraxis": {
           "colorbar": {
            "outlinewidth": 0,
            "ticks": ""
           }
          },
          "colorscale": {
           "diverging": [
            [
             0,
             "#8e0152"
            ],
            [
             0.1,
             "#c51b7d"
            ],
            [
             0.2,
             "#de77ae"
            ],
            [
             0.3,
             "#f1b6da"
            ],
            [
             0.4,
             "#fde0ef"
            ],
            [
             0.5,
             "#f7f7f7"
            ],
            [
             0.6,
             "#e6f5d0"
            ],
            [
             0.7,
             "#b8e186"
            ],
            [
             0.8,
             "#7fbc41"
            ],
            [
             0.9,
             "#4d9221"
            ],
            [
             1,
             "#276419"
            ]
           ],
           "sequential": [
            [
             0,
             "#0d0887"
            ],
            [
             0.1111111111111111,
             "#46039f"
            ],
            [
             0.2222222222222222,
             "#7201a8"
            ],
            [
             0.3333333333333333,
             "#9c179e"
            ],
            [
             0.4444444444444444,
             "#bd3786"
            ],
            [
             0.5555555555555556,
             "#d8576b"
            ],
            [
             0.6666666666666666,
             "#ed7953"
            ],
            [
             0.7777777777777778,
             "#fb9f3a"
            ],
            [
             0.8888888888888888,
             "#fdca26"
            ],
            [
             1,
             "#f0f921"
            ]
           ],
           "sequentialminus": [
            [
             0,
             "#0d0887"
            ],
            [
             0.1111111111111111,
             "#46039f"
            ],
            [
             0.2222222222222222,
             "#7201a8"
            ],
            [
             0.3333333333333333,
             "#9c179e"
            ],
            [
             0.4444444444444444,
             "#bd3786"
            ],
            [
             0.5555555555555556,
             "#d8576b"
            ],
            [
             0.6666666666666666,
             "#ed7953"
            ],
            [
             0.7777777777777778,
             "#fb9f3a"
            ],
            [
             0.8888888888888888,
             "#fdca26"
            ],
            [
             1,
             "#f0f921"
            ]
           ]
          },
          "colorway": [
           "#636efa",
           "#EF553B",
           "#00cc96",
           "#ab63fa",
           "#FFA15A",
           "#19d3f3",
           "#FF6692",
           "#B6E880",
           "#FF97FF",
           "#FECB52"
          ],
          "font": {
           "color": "#2a3f5f"
          },
          "geo": {
           "bgcolor": "white",
           "lakecolor": "white",
           "landcolor": "#E5ECF6",
           "showlakes": true,
           "showland": true,
           "subunitcolor": "white"
          },
          "hoverlabel": {
           "align": "left"
          },
          "hovermode": "closest",
          "mapbox": {
           "style": "light"
          },
          "paper_bgcolor": "white",
          "plot_bgcolor": "#E5ECF6",
          "polar": {
           "angularaxis": {
            "gridcolor": "white",
            "linecolor": "white",
            "ticks": ""
           },
           "bgcolor": "#E5ECF6",
           "radialaxis": {
            "gridcolor": "white",
            "linecolor": "white",
            "ticks": ""
           }
          },
          "scene": {
           "xaxis": {
            "backgroundcolor": "#E5ECF6",
            "gridcolor": "white",
            "gridwidth": 2,
            "linecolor": "white",
            "showbackground": true,
            "ticks": "",
            "zerolinecolor": "white"
           },
           "yaxis": {
            "backgroundcolor": "#E5ECF6",
            "gridcolor": "white",
            "gridwidth": 2,
            "linecolor": "white",
            "showbackground": true,
            "ticks": "",
            "zerolinecolor": "white"
           },
           "zaxis": {
            "backgroundcolor": "#E5ECF6",
            "gridcolor": "white",
            "gridwidth": 2,
            "linecolor": "white",
            "showbackground": true,
            "ticks": "",
            "zerolinecolor": "white"
           }
          },
          "shapedefaults": {
           "line": {
            "color": "#2a3f5f"
           }
          },
          "ternary": {
           "aaxis": {
            "gridcolor": "white",
            "linecolor": "white",
            "ticks": ""
           },
           "baxis": {
            "gridcolor": "white",
            "linecolor": "white",
            "ticks": ""
           },
           "bgcolor": "#E5ECF6",
           "caxis": {
            "gridcolor": "white",
            "linecolor": "white",
            "ticks": ""
           }
          },
          "title": {
           "x": 0.05
          },
          "xaxis": {
           "automargin": true,
           "gridcolor": "white",
           "linecolor": "white",
           "ticks": "",
           "title": {
            "standoff": 15
           },
           "zerolinecolor": "white",
           "zerolinewidth": 2
          },
          "yaxis": {
           "automargin": true,
           "gridcolor": "white",
           "linecolor": "white",
           "ticks": "",
           "title": {
            "standoff": 15
           },
           "zerolinecolor": "white",
           "zerolinewidth": 2
          }
         }
        },
        "title": {
         "text": "Distribution of Positive COVID-19 Cases"
        },
        "xaxis": {
         "anchor": "y",
         "domain": [
          0,
          1
         ],
         "title": {
          "text": "Positive Cases"
         }
        },
        "yaxis": {
         "anchor": "x",
         "domain": [
          0,
          1
         ],
         "title": {
          "text": "Probability"
         }
        }
       }
      }
     },
     "metadata": {},
     "output_type": "display_data"
    },
    {
     "data": {
      "application/vnd.plotly.v1+json": {
       "config": {
        "plotlyServerURL": "https://plot.ly"
       },
       "data": [
        {
         "hovertemplate": "positive=%{x}<br>death=%{y}<extra></extra>",
         "legendgroup": "",
         "marker": {
          "color": "#636efa",
          "symbol": "circle"
         },
         "mode": "markers",
         "name": "",
         "orientation": "v",
         "showlegend": false,
         "type": "scatter",
         "x": [
          28756489,
          28714654,
          28654639,
          28585852,
          28520365,
          28453529,
          28399281,
          28351189,
          28296840,
          28225595,
          28150738,
          28075173,
          28001915,
          27932810,
          27880280,
          27821578,
          27749224,
          27674548,
          27607724,
          27540885,
          27484573,
          27429496,
          27357332,
          27266690,
          27165660,
          27063243,
          26968049,
          26875063,
          26797326,
          26701332,
          26586775,
          26455629,
          26331722,
          26214762,
          26097146,
          25976946,
          25857579,
          25708755,
          25541644,
          25384338,
          25230353,
          25083905,
          24950451,
          24806217,
          24629099,
          24438184,
          24251909,
          24062706,
          23916080,
          23765288,
          23578070,
          23359985,
          23113531,
          22887915,
          22663424,
          22445404,
          22250149,
          22021417,
          21752049,
          21456928,
          21184885,
          20934701,
          20715626,
          20536055,
          20327598,
          20047280,
          19864374,
          19638128,
          19408632,
          19208953,
          19044826,
          18891286,
          18700692,
          18573896,
          18367212,
          18142686,
          17949678,
          17770272,
          17572778,
          17367905,
          17126119,
          16883149,
          16648861,
          16455643,
          16262357,
          16075106,
          15848202,
          15611269,
          15390423,
          15173695,
          14955851,
          14773954,
          14591374,
          14372304,
          14141991,
          13925720,
          13722291,
          13541108,
          13391077,
          13253823,
          13102354,
          12903480,
          12773716,
          12585220,
          12418717,
          12264021,
          12109833,
          11923448,
          11726284,
          11538352,
          11370132,
          11210306,
          11060329,
          10913267,
          10745541,
          10570908,
          10413366,
          10264033,
          10128464,
          10010061,
          9897616,
          9765503,
          9635513,
          9516490,
          9410494,
          9290545,
          9207091,
          9065117,
          8973824,
          8875882,
          8786517,
          8706817,
          8634562,
          8571132,
          8506661,
          8422869,
          8340294,
          8268021,
          8205165,
          8144591,
          8086941,
          8038984,
          7981309,
          7912804,
          7849163,
          7791923,
          7745009,
          7701761,
          7655038,
          7597495,
          7540410,
          7485102,
          7433886,
          7395040,
          7357288,
          7319123,
          7268249,
          7218822,
          7173102,
          7128193,
          7091427,
          7056051,
          7021061,
          6973834,
          6918556,
          6875215,
          6835717,
          6786731,
          6747569,
          6712036,
          6666368,
          6619479,
          6575837,
          6535518,
          6500740,
          6467168,
          6432589,
          6390739,
          6346041,
          6308655,
          6277899,
          6255589,
          6227472,
          6194439,
          6149579,
          6097979,
          6053348,
          6022681,
          5980439,
          5948719,
          5909953,
          5865958,
          5819843,
          5775732,
          5731401,
          5694562,
          5660019,
          5622119,
          5576086,
          5529609,
          5485765,
          5440692,
          5400622,
          5362871,
          5320368,
          5264365,
          5207221,
          5155458,
          5099272,
          5044337,
          5002967,
          4952201,
          4898709,
          4837872,
          4783827,
          4731136,
          4679931,
          4637188,
          4583866,
          4523226,
          4455391,
          4386412,
          4322256,
          4263804,
          4209320,
          4148552,
          4083764,
          4008669,
          3937243,
          3867801,
          3804914,
          3748205,
          3683998,
          3619225,
          3542727,
          3472234,
          3402862,
          3344244,
          3287100,
          3225498,
          3162914,
          3095806,
          3036743,
          2973928,
          2922937,
          2882035,
          2836661,
          2781815,
          2727601,
          2674090,
          2623046,
          2576014,
          2536646,
          2494917,
          2451813,
          2407513,
          2367793,
          2328662,
          2295216,
          2268399,
          2239217,
          2206985,
          2176098,
          2149114,
          2124908,
          2102051,
          2083815,
          2062186,
          2036727,
          2013575,
          1991599,
          1970726,
          1953793,
          1936858,
          1917778,
          1895109,
          1872063,
          1851551,
          1831387,
          1811478,
          1791449,
          1769755,
          1746212,
          1722588,
          1699744,
          1680551,
          1663875,
          1645332,
          1626210,
          1603728,
          1579601,
          1552850,
          1531479,
          1510779,
          1490166,
          1469782,
          1445947,
          1420540,
          1393744,
          1372263,
          1349742,
          1331662,
          1310550,
          1285270,
          1258072,
          1230844,
          1205532,
          1183140,
          1161034,
          1135275,
          1106124,
          1073244,
          1043181,
          1017002,
          991770,
          969366,
          942042,
          901345,
          870128,
          838190,
          808917,
          781563,
          757187,
          730257,
          702684,
          671184,
          639918,
          610084,
          584141,
          560005,
          531837,
          500514,
          466736,
          431744,
          400780,
          370364,
          342104,
          316261,
          283139,
          251304,
          223169,
          196965,
          171965,
          150826,
          131143,
          111358,
          92143,
          74551,
          61894,
          50998,
          39808,
          30580,
          23640,
          17540,
          12934,
          9577
         ],
         "xaxis": "x",
         "y": [
          515151,
          514309,
          512629,
          510408,
          508665,
          506216,
          504488,
          503247,
          502196,
          500349,
          498208,
          495070,
          492623,
          490382,
          489147,
          487860,
          485700,
          483223,
          480607,
          478259,
          476906,
          475828,
          474462,
          470995,
          465568,
          461695,
          458250,
          455455,
          454146,
          452671,
          449677,
          446134,
          440922,
          437237,
          433751,
          432189,
          430130,
          427148,
          423645,
          419634,
          415557,
          411823,
          410230,
          408286,
          404695,
          400715,
          396837,
          392428,
          390287,
          388892,
          386839,
          383130,
          379451,
          375536,
          371449,
          367385,
          365652,
          363584,
          360047,
          356267,
          352188,
          348286,
          344802,
          343255,
          341800,
          339394,
          336802,
          333505,
          329605,
          326316,
          324826,
          323429,
          322003,
          320450,
          317492,
          314099,
          310962,
          309482,
          307814,
          305106,
          302240,
          298775,
          295322,
          292398,
          291041,
          289540,
          287043,
          284296,
          281164,
          277995,
          275315,
          274024,
          272861,
          270375,
          267812,
          264990,
          262179,
          259690,
          258653,
          257828,
          256585,
          255181,
          253789,
          251508,
          249417,
          248564,
          247641,
          246090,
          244180,
          242170,
          240285,
          238732,
          238125,
          237413,
          236060,
          234759,
          233647,
          232070,
          230712,
          230135,
          229622,
          228497,
          227312,
          226158,
          225027,
          223510,
          223035,
          222625,
          221667,
          220720,
          219660,
          218613,
          217691,
          217294,
          216903,
          216007,
          215058,
          213964,
          212913,
          212080,
          211637,
          211232,
          210452,
          209561,
          208633,
          207832,
          207114,
          206830,
          206358,
          205668,
          204754,
          203775,
          202846,
          202233,
          201902,
          201522,
          200784,
          199942,
          199080,
          198016,
          197292,
          197046,
          196736,
          195863,
          195016,
          194078,
          192922,
          192063,
          191782,
          191455,
          190708,
          189807,
          188927,
          187737,
          186703,
          186296,
          185904,
          185087,
          184072,
          182911,
          181823,
          181476,
          181249,
          180797,
          179871,
          178872,
          177800,
          176765,
          175751,
          175371,
          174894,
          173877,
          172857,
          171729,
          170429,
          169289,
          168948,
          168371,
          167336,
          166217,
          165088,
          163677,
          162498,
          162087,
          161470,
          160243,
          159017,
          157854,
          156337,
          155017,
          154587,
          153966,
          152880,
          151558,
          150316,
          148962,
          147720,
          147204,
          146708,
          145507,
          144183,
          142933,
          141428,
          140317,
          139251,
          138690,
          137678,
          136504,
          135433,
          134284,
          133241,
          132865,
          132339,
          131462,
          130524,
          129584,
          128720,
          127978,
          127649,
          127178,
          126425,
          125584,
          124722,
          123903,
          122997,
          122764,
          122550,
          122255,
          121653,
          120954,
          120258,
          119675,
          119339,
          119068,
          118558,
          117950,
          117296,
          116592,
          115864,
          115576,
          115285,
          114674,
          114017,
          113338,
          112560,
          111834,
          111451,
          111097,
          110407,
          109641,
          108745,
          107853,
          106959,
          106287,
          105837,
          105128,
          104296,
          103414,
          102441,
          101459,
          100783,
          100129,
          99208,
          98037,
          96802,
          95462,
          94794,
          94238,
          93549,
          92514,
          91228,
          89847,
          88452,
          87125,
          86272,
          85410,
          84161,
          82624,
          80778,
          79049,
          77531,
          76642,
          75615,
          74156,
          72368,
          69636,
          67705,
          65209,
          64226,
          62979,
          61458,
          59646,
          57493,
          54804,
          52726,
          51452,
          50240,
          48606,
          46633,
          44827,
          42677,
          40199,
          38385,
          36620,
          34724,
          32608,
          30412,
          27871,
          25515,
          23885,
          22187,
          20108,
          18027,
          15973,
          13974,
          11932,
          10618,
          9278,
          7800,
          6512,
          5337,
          4331,
          3422,
          2838,
          2332,
          1782,
          1371,
          1058,
          817,
          582,
          480,
          335,
          273,
          203,
          152,
          126
         ],
         "yaxis": "y"
        }
       ],
       "layout": {
        "legend": {
         "tracegroupgap": 0
        },
        "template": {
         "data": {
          "bar": [
           {
            "error_x": {
             "color": "#2a3f5f"
            },
            "error_y": {
             "color": "#2a3f5f"
            },
            "marker": {
             "line": {
              "color": "#E5ECF6",
              "width": 0.5
             },
             "pattern": {
              "fillmode": "overlay",
              "size": 10,
              "solidity": 0.2
             }
            },
            "type": "bar"
           }
          ],
          "barpolar": [
           {
            "marker": {
             "line": {
              "color": "#E5ECF6",
              "width": 0.5
             },
             "pattern": {
              "fillmode": "overlay",
              "size": 10,
              "solidity": 0.2
             }
            },
            "type": "barpolar"
           }
          ],
          "carpet": [
           {
            "aaxis": {
             "endlinecolor": "#2a3f5f",
             "gridcolor": "white",
             "linecolor": "white",
             "minorgridcolor": "white",
             "startlinecolor": "#2a3f5f"
            },
            "baxis": {
             "endlinecolor": "#2a3f5f",
             "gridcolor": "white",
             "linecolor": "white",
             "minorgridcolor": "white",
             "startlinecolor": "#2a3f5f"
            },
            "type": "carpet"
           }
          ],
          "choropleth": [
           {
            "colorbar": {
             "outlinewidth": 0,
             "ticks": ""
            },
            "type": "choropleth"
           }
          ],
          "contour": [
           {
            "colorbar": {
             "outlinewidth": 0,
             "ticks": ""
            },
            "colorscale": [
             [
              0,
              "#0d0887"
             ],
             [
              0.1111111111111111,
              "#46039f"
             ],
             [
              0.2222222222222222,
              "#7201a8"
             ],
             [
              0.3333333333333333,
              "#9c179e"
             ],
             [
              0.4444444444444444,
              "#bd3786"
             ],
             [
              0.5555555555555556,
              "#d8576b"
             ],
             [
              0.6666666666666666,
              "#ed7953"
             ],
             [
              0.7777777777777778,
              "#fb9f3a"
             ],
             [
              0.8888888888888888,
              "#fdca26"
             ],
             [
              1,
              "#f0f921"
             ]
            ],
            "type": "contour"
           }
          ],
          "contourcarpet": [
           {
            "colorbar": {
             "outlinewidth": 0,
             "ticks": ""
            },
            "type": "contourcarpet"
           }
          ],
          "heatmap": [
           {
            "colorbar": {
             "outlinewidth": 0,
             "ticks": ""
            },
            "colorscale": [
             [
              0,
              "#0d0887"
             ],
             [
              0.1111111111111111,
              "#46039f"
             ],
             [
              0.2222222222222222,
              "#7201a8"
             ],
             [
              0.3333333333333333,
              "#9c179e"
             ],
             [
              0.4444444444444444,
              "#bd3786"
             ],
             [
              0.5555555555555556,
              "#d8576b"
             ],
             [
              0.6666666666666666,
              "#ed7953"
             ],
             [
              0.7777777777777778,
              "#fb9f3a"
             ],
             [
              0.8888888888888888,
              "#fdca26"
             ],
             [
              1,
              "#f0f921"
             ]
            ],
            "type": "heatmap"
           }
          ],
          "heatmapgl": [
           {
            "colorbar": {
             "outlinewidth": 0,
             "ticks": ""
            },
            "colorscale": [
             [
              0,
              "#0d0887"
             ],
             [
              0.1111111111111111,
              "#46039f"
             ],
             [
              0.2222222222222222,
              "#7201a8"
             ],
             [
              0.3333333333333333,
              "#9c179e"
             ],
             [
              0.4444444444444444,
              "#bd3786"
             ],
             [
              0.5555555555555556,
              "#d8576b"
             ],
             [
              0.6666666666666666,
              "#ed7953"
             ],
             [
              0.7777777777777778,
              "#fb9f3a"
             ],
             [
              0.8888888888888888,
              "#fdca26"
             ],
             [
              1,
              "#f0f921"
             ]
            ],
            "type": "heatmapgl"
           }
          ],
          "histogram": [
           {
            "marker": {
             "pattern": {
              "fillmode": "overlay",
              "size": 10,
              "solidity": 0.2
             }
            },
            "type": "histogram"
           }
          ],
          "histogram2d": [
           {
            "colorbar": {
             "outlinewidth": 0,
             "ticks": ""
            },
            "colorscale": [
             [
              0,
              "#0d0887"
             ],
             [
              0.1111111111111111,
              "#46039f"
             ],
             [
              0.2222222222222222,
              "#7201a8"
             ],
             [
              0.3333333333333333,
              "#9c179e"
             ],
             [
              0.4444444444444444,
              "#bd3786"
             ],
             [
              0.5555555555555556,
              "#d8576b"
             ],
             [
              0.6666666666666666,
              "#ed7953"
             ],
             [
              0.7777777777777778,
              "#fb9f3a"
             ],
             [
              0.8888888888888888,
              "#fdca26"
             ],
             [
              1,
              "#f0f921"
             ]
            ],
            "type": "histogram2d"
           }
          ],
          "histogram2dcontour": [
           {
            "colorbar": {
             "outlinewidth": 0,
             "ticks": ""
            },
            "colorscale": [
             [
              0,
              "#0d0887"
             ],
             [
              0.1111111111111111,
              "#46039f"
             ],
             [
              0.2222222222222222,
              "#7201a8"
             ],
             [
              0.3333333333333333,
              "#9c179e"
             ],
             [
              0.4444444444444444,
              "#bd3786"
             ],
             [
              0.5555555555555556,
              "#d8576b"
             ],
             [
              0.6666666666666666,
              "#ed7953"
             ],
             [
              0.7777777777777778,
              "#fb9f3a"
             ],
             [
              0.8888888888888888,
              "#fdca26"
             ],
             [
              1,
              "#f0f921"
             ]
            ],
            "type": "histogram2dcontour"
           }
          ],
          "mesh3d": [
           {
            "colorbar": {
             "outlinewidth": 0,
             "ticks": ""
            },
            "type": "mesh3d"
           }
          ],
          "parcoords": [
           {
            "line": {
             "colorbar": {
              "outlinewidth": 0,
              "ticks": ""
             }
            },
            "type": "parcoords"
           }
          ],
          "pie": [
           {
            "automargin": true,
            "type": "pie"
           }
          ],
          "scatter": [
           {
            "fillpattern": {
             "fillmode": "overlay",
             "size": 10,
             "solidity": 0.2
            },
            "type": "scatter"
           }
          ],
          "scatter3d": [
           {
            "line": {
             "colorbar": {
              "outlinewidth": 0,
              "ticks": ""
             }
            },
            "marker": {
             "colorbar": {
              "outlinewidth": 0,
              "ticks": ""
             }
            },
            "type": "scatter3d"
           }
          ],
          "scattercarpet": [
           {
            "marker": {
             "colorbar": {
              "outlinewidth": 0,
              "ticks": ""
             }
            },
            "type": "scattercarpet"
           }
          ],
          "scattergeo": [
           {
            "marker": {
             "colorbar": {
              "outlinewidth": 0,
              "ticks": ""
             }
            },
            "type": "scattergeo"
           }
          ],
          "scattergl": [
           {
            "marker": {
             "colorbar": {
              "outlinewidth": 0,
              "ticks": ""
             }
            },
            "type": "scattergl"
           }
          ],
          "scattermapbox": [
           {
            "marker": {
             "colorbar": {
              "outlinewidth": 0,
              "ticks": ""
             }
            },
            "type": "scattermapbox"
           }
          ],
          "scatterpolar": [
           {
            "marker": {
             "colorbar": {
              "outlinewidth": 0,
              "ticks": ""
             }
            },
            "type": "scatterpolar"
           }
          ],
          "scatterpolargl": [
           {
            "marker": {
             "colorbar": {
              "outlinewidth": 0,
              "ticks": ""
             }
            },
            "type": "scatterpolargl"
           }
          ],
          "scatterternary": [
           {
            "marker": {
             "colorbar": {
              "outlinewidth": 0,
              "ticks": ""
             }
            },
            "type": "scatterternary"
           }
          ],
          "surface": [
           {
            "colorbar": {
             "outlinewidth": 0,
             "ticks": ""
            },
            "colorscale": [
             [
              0,
              "#0d0887"
             ],
             [
              0.1111111111111111,
              "#46039f"
             ],
             [
              0.2222222222222222,
              "#7201a8"
             ],
             [
              0.3333333333333333,
              "#9c179e"
             ],
             [
              0.4444444444444444,
              "#bd3786"
             ],
             [
              0.5555555555555556,
              "#d8576b"
             ],
             [
              0.6666666666666666,
              "#ed7953"
             ],
             [
              0.7777777777777778,
              "#fb9f3a"
             ],
             [
              0.8888888888888888,
              "#fdca26"
             ],
             [
              1,
              "#f0f921"
             ]
            ],
            "type": "surface"
           }
          ],
          "table": [
           {
            "cells": {
             "fill": {
              "color": "#EBF0F8"
             },
             "line": {
              "color": "white"
             }
            },
            "header": {
             "fill": {
              "color": "#C8D4E3"
             },
             "line": {
              "color": "white"
             }
            },
            "type": "table"
           }
          ]
         },
         "layout": {
          "annotationdefaults": {
           "arrowcolor": "#2a3f5f",
           "arrowhead": 0,
           "arrowwidth": 1
          },
          "autotypenumbers": "strict",
          "coloraxis": {
           "colorbar": {
            "outlinewidth": 0,
            "ticks": ""
           }
          },
          "colorscale": {
           "diverging": [
            [
             0,
             "#8e0152"
            ],
            [
             0.1,
             "#c51b7d"
            ],
            [
             0.2,
             "#de77ae"
            ],
            [
             0.3,
             "#f1b6da"
            ],
            [
             0.4,
             "#fde0ef"
            ],
            [
             0.5,
             "#f7f7f7"
            ],
            [
             0.6,
             "#e6f5d0"
            ],
            [
             0.7,
             "#b8e186"
            ],
            [
             0.8,
             "#7fbc41"
            ],
            [
             0.9,
             "#4d9221"
            ],
            [
             1,
             "#276419"
            ]
           ],
           "sequential": [
            [
             0,
             "#0d0887"
            ],
            [
             0.1111111111111111,
             "#46039f"
            ],
            [
             0.2222222222222222,
             "#7201a8"
            ],
            [
             0.3333333333333333,
             "#9c179e"
            ],
            [
             0.4444444444444444,
             "#bd3786"
            ],
            [
             0.5555555555555556,
             "#d8576b"
            ],
            [
             0.6666666666666666,
             "#ed7953"
            ],
            [
             0.7777777777777778,
             "#fb9f3a"
            ],
            [
             0.8888888888888888,
             "#fdca26"
            ],
            [
             1,
             "#f0f921"
            ]
           ],
           "sequentialminus": [
            [
             0,
             "#0d0887"
            ],
            [
             0.1111111111111111,
             "#46039f"
            ],
            [
             0.2222222222222222,
             "#7201a8"
            ],
            [
             0.3333333333333333,
             "#9c179e"
            ],
            [
             0.4444444444444444,
             "#bd3786"
            ],
            [
             0.5555555555555556,
             "#d8576b"
            ],
            [
             0.6666666666666666,
             "#ed7953"
            ],
            [
             0.7777777777777778,
             "#fb9f3a"
            ],
            [
             0.8888888888888888,
             "#fdca26"
            ],
            [
             1,
             "#f0f921"
            ]
           ]
          },
          "colorway": [
           "#636efa",
           "#EF553B",
           "#00cc96",
           "#ab63fa",
           "#FFA15A",
           "#19d3f3",
           "#FF6692",
           "#B6E880",
           "#FF97FF",
           "#FECB52"
          ],
          "font": {
           "color": "#2a3f5f"
          },
          "geo": {
           "bgcolor": "white",
           "lakecolor": "white",
           "landcolor": "#E5ECF6",
           "showlakes": true,
           "showland": true,
           "subunitcolor": "white"
          },
          "hoverlabel": {
           "align": "left"
          },
          "hovermode": "closest",
          "mapbox": {
           "style": "light"
          },
          "paper_bgcolor": "white",
          "plot_bgcolor": "#E5ECF6",
          "polar": {
           "angularaxis": {
            "gridcolor": "white",
            "linecolor": "white",
            "ticks": ""
           },
           "bgcolor": "#E5ECF6",
           "radialaxis": {
            "gridcolor": "white",
            "linecolor": "white",
            "ticks": ""
           }
          },
          "scene": {
           "xaxis": {
            "backgroundcolor": "#E5ECF6",
            "gridcolor": "white",
            "gridwidth": 2,
            "linecolor": "white",
            "showbackground": true,
            "ticks": "",
            "zerolinecolor": "white"
           },
           "yaxis": {
            "backgroundcolor": "#E5ECF6",
            "gridcolor": "white",
            "gridwidth": 2,
            "linecolor": "white",
            "showbackground": true,
            "ticks": "",
            "zerolinecolor": "white"
           },
           "zaxis": {
            "backgroundcolor": "#E5ECF6",
            "gridcolor": "white",
            "gridwidth": 2,
            "linecolor": "white",
            "showbackground": true,
            "ticks": "",
            "zerolinecolor": "white"
           }
          },
          "shapedefaults": {
           "line": {
            "color": "#2a3f5f"
           }
          },
          "ternary": {
           "aaxis": {
            "gridcolor": "white",
            "linecolor": "white",
            "ticks": ""
           },
           "baxis": {
            "gridcolor": "white",
            "linecolor": "white",
            "ticks": ""
           },
           "bgcolor": "#E5ECF6",
           "caxis": {
            "gridcolor": "white",
            "linecolor": "white",
            "ticks": ""
           }
          },
          "title": {
           "x": 0.05
          },
          "xaxis": {
           "automargin": true,
           "gridcolor": "white",
           "linecolor": "white",
           "ticks": "",
           "title": {
            "standoff": 15
           },
           "zerolinecolor": "white",
           "zerolinewidth": 2
          },
          "yaxis": {
           "automargin": true,
           "gridcolor": "white",
           "linecolor": "white",
           "ticks": "",
           "title": {
            "standoff": 15
           },
           "zerolinecolor": "white",
           "zerolinewidth": 2
          }
         }
        },
        "title": {
         "text": "Scatter Plot: Positive Cases vs. Death Cases"
        },
        "xaxis": {
         "anchor": "y",
         "domain": [
          0,
          1
         ],
         "title": {
          "text": "Positive Cases"
         }
        },
        "yaxis": {
         "anchor": "x",
         "domain": [
          0,
          1
         ],
         "title": {
          "text": "Death Cases"
         }
        }
       }
      }
     },
     "metadata": {},
     "output_type": "display_data"
    },
    {
     "data": {
      "application/vnd.plotly.v1+json": {
       "config": {
        "plotlyServerURL": "https://plot.ly"
       },
       "data": [
        {
         "hovertemplate": "negative=%{x}<br>death=%{y}<extra></extra>",
         "legendgroup": "",
         "marker": {
          "color": "#636efa",
          "symbol": "circle"
         },
         "mode": "markers",
         "name": "",
         "orientation": "v",
         "showlegend": false,
         "type": "scatter",
         "x": [
          74582825,
          74450990,
          74307155,
          74035238,
          73857281,
          73590280,
          73334501,
          73216424,
          73012825,
          72807735,
          72530906,
          72258697,
          72013379,
          71788112,
          71664501,
          71507723,
          71365933,
          71141178,
          70922687,
          70689021,
          70587919,
          70444531,
          70272654,
          70038361,
          69782378,
          69522254,
          69366393,
          69029225,
          68887069,
          68678766,
          68396289,
          68125535,
          67908039,
          67683540,
          67516458,
          67171483,
          66946890,
          66714591,
          66430423,
          66160756,
          65916203,
          65538753,
          65321747,
          65098300,
          64823753,
          64539361,
          64271666,
          63929216,
          63599369,
          63406544,
          63128702,
          62902360,
          62491363,
          62185469,
          61947584,
          61503591,
          61292981,
          61022599,
          60732416,
          60412132,
          60165554,
          59902466,
          59422210,
          59273596,
          59058013,
          58836221,
          58644173,
          58381318,
          58166211,
          57964513,
          57654792,
          57450504,
          57235949,
          57065259,
          56743142,
          56438180,
          56170134,
          55730338,
          55481072,
          55280309,
          54829514,
          54583082,
          54279236,
          53962524,
          53506446,
          53206636,
          52980433,
          52629992,
          52318403,
          51940084,
          51647749,
          51378769,
          51079076,
          50722295,
          50411774,
          50105551,
          50764325,
          50500626,
          50156395,
          49929607,
          49605194,
          49220614,
          49040673,
          48646508,
          48285922,
          47954715,
          47580860,
          47204327,
          46756160,
          46431771,
          46084856,
          45784358,
          45534900,
          45134549,
          44834103,
          44502129,
          44230579,
          43947336,
          43743959,
          43460293,
          43220658,
          42862789,
          42548344,
          42245917,
          42043319,
          41787471,
          41504027,
          41275424,
          40949659,
          40742964,
          40425870,
          40159937,
          39939297,
          39671263,
          39402583,
          39142812,
          38837959,
          38536182,
          38334630,
          38133111,
          37785642,
          37591664,
          37331107,
          37058663,
          36795408,
          36651298,
          36440897,
          36227595,
          36006859,
          35710663,
          35427873,
          35420950,
          35188676,
          35003573,
          34760024,
          34461789,
          34279219,
          33967631,
          33752797,
          33525821,
          33321891,
          33063497,
          32870381,
          32609649,
          32319146,
          32064596,
          31840636,
          31582537,
          31435785,
          31169829,
          30890761,
          30613715,
          30368264,
          30185904,
          29969089,
          29770264,
          29543917,
          29316279,
          29071387,
          28875758,
          28682346,
          28559056,
          28367181,
          28161047,
          27942511,
          27686000,
          27458919,
          27247822,
          27068612,
          26887884,
          26667080,
          26409914,
          26185279,
          25941680,
          25725096,
          25500592,
          25280953,
          25152471,
          24925819,
          24671146,
          24462674,
          24219442,
          24013625,
          23826651,
          23568460,
          23318852,
          23010089,
          22753455,
          22517903,
          22287303,
          22076979,
          21816395,
          21624516,
          21360543,
          21093702,
          20861692,
          20625354,
          20416372,
          20164047,
          19932106,
          19833148,
          19571749,
          19284371,
          19050243,
          18807242,
          18517095,
          18236870,
          17925103,
          17611606,
          17349125,
          17108860,
          16860967,
          16595467,
          16380380,
          16104357,
          15816629,
          15548344,
          15288822,
          15063871,
          14799869,
          14535139,
          14246666,
          13962460,
          13750803,
          13544258,
          13371517,
          13158631,
          12948963,
          12701762,
          12472357,
          12247882,
          12021777,
          11776058,
          11548205,
          11330989,
          11112300,
          10864232,
          10679273,
          10506682,
          10343038,
          10167508,
          9970283,
          9735467,
          9543899,
          9348637,
          9173553,
          9008042,
          8840278,
          8641463,
          8413141,
          8262747,
          8094168,
          7938882,
          7806568,
          7616701,
          7394838,
          7162636,
          6978667,
          6794045,
          6632978,
          6475080,
          6327092,
          6152833,
          5963050,
          5774936,
          5623724,
          5511820,
          5344083,
          5214235,
          5098634,
          4925365,
          4706173,
          4538444,
          4375664,
          4243900,
          4105783,
          3973416,
          3853158,
          3714514,
          3597496,
          3487325,
          3278160,
          3186631,
          3075820,
          2971098,
          2876361,
          2777818,
          2672124,
          2585233,
          2491161,
          2410267,
          2303609,
          2224039,
          2134963,
          2065461,
          2003045,
          1927783,
          1807700,
          1732188,
          1667505,
          1881486,
          1812381,
          1748803,
          1680587,
          1611126,
          1543524,
          1464212,
          1406727,
          1333459,
          1276163,
          1208805,
          1144432,
          1088216,
          1005485,
          937451,
          858440,
          788594,
          754973,
          611448,
          556688,
          505283,
          460602,
          416268,
          366103,
          324271,
          255808,
          210652,
          168293,
          135287,
          101340,
          80231,
          67803,
          51743,
          39938,
          31577,
          26183
         ],
         "xaxis": "x",
         "y": [
          515151,
          514309,
          512629,
          510408,
          508665,
          506216,
          504488,
          503247,
          502196,
          500349,
          498208,
          495070,
          492623,
          490382,
          489147,
          487860,
          485700,
          483223,
          480607,
          478259,
          476906,
          475828,
          474462,
          470995,
          465568,
          461695,
          458250,
          455455,
          454146,
          452671,
          449677,
          446134,
          440922,
          437237,
          433751,
          432189,
          430130,
          427148,
          423645,
          419634,
          415557,
          411823,
          410230,
          408286,
          404695,
          400715,
          396837,
          392428,
          390287,
          388892,
          386839,
          383130,
          379451,
          375536,
          371449,
          367385,
          365652,
          363584,
          360047,
          356267,
          352188,
          348286,
          344802,
          343255,
          341800,
          339394,
          336802,
          333505,
          329605,
          326316,
          324826,
          323429,
          322003,
          320450,
          317492,
          314099,
          310962,
          309482,
          307814,
          305106,
          302240,
          298775,
          295322,
          292398,
          291041,
          289540,
          287043,
          284296,
          281164,
          277995,
          275315,
          274024,
          272861,
          270375,
          267812,
          264990,
          262179,
          259690,
          258653,
          257828,
          256585,
          255181,
          253789,
          251508,
          249417,
          248564,
          247641,
          246090,
          244180,
          242170,
          240285,
          238732,
          238125,
          237413,
          236060,
          234759,
          233647,
          232070,
          230712,
          230135,
          229622,
          228497,
          227312,
          226158,
          225027,
          223510,
          223035,
          222625,
          221667,
          220720,
          219660,
          218613,
          217691,
          217294,
          216903,
          216007,
          215058,
          213964,
          212913,
          212080,
          211637,
          211232,
          210452,
          209561,
          208633,
          207832,
          207114,
          206830,
          206358,
          205668,
          204754,
          203775,
          202846,
          202233,
          201902,
          201522,
          200784,
          199942,
          199080,
          198016,
          197292,
          197046,
          196736,
          195863,
          195016,
          194078,
          192922,
          192063,
          191782,
          191455,
          190708,
          189807,
          188927,
          187737,
          186703,
          186296,
          185904,
          185087,
          184072,
          182911,
          181823,
          181476,
          181249,
          180797,
          179871,
          178872,
          177800,
          176765,
          175751,
          175371,
          174894,
          173877,
          172857,
          171729,
          170429,
          169289,
          168948,
          168371,
          167336,
          166217,
          165088,
          163677,
          162498,
          162087,
          161470,
          160243,
          159017,
          157854,
          156337,
          155017,
          154587,
          153966,
          152880,
          151558,
          150316,
          148962,
          147720,
          147204,
          146708,
          145507,
          144183,
          142933,
          141428,
          140317,
          139251,
          138690,
          137678,
          136504,
          135433,
          134284,
          133241,
          132865,
          132339,
          131462,
          130524,
          129584,
          128720,
          127978,
          127649,
          127178,
          126425,
          125584,
          124722,
          123903,
          122997,
          122764,
          122550,
          122255,
          121653,
          120954,
          120258,
          119675,
          119339,
          119068,
          118558,
          117950,
          117296,
          116592,
          115864,
          115576,
          115285,
          114674,
          114017,
          113338,
          112560,
          111834,
          111451,
          111097,
          110407,
          109641,
          108745,
          107853,
          106959,
          106287,
          105837,
          105128,
          104296,
          103414,
          102441,
          101459,
          100783,
          100129,
          99208,
          98037,
          96802,
          95462,
          94794,
          94238,
          93549,
          92514,
          91228,
          89847,
          88452,
          87125,
          86272,
          85410,
          84161,
          82624,
          80778,
          79049,
          77531,
          76642,
          75615,
          74156,
          72368,
          69636,
          67705,
          65209,
          64226,
          62979,
          61458,
          59646,
          57493,
          54804,
          52726,
          51452,
          50240,
          48606,
          46633,
          44827,
          42677,
          40199,
          38385,
          36620,
          34724,
          32608,
          30412,
          27871,
          25515,
          23885,
          22187,
          20108,
          18027,
          15973,
          13974,
          11932,
          10618,
          9278,
          7800,
          6512,
          5337,
          4331,
          3422,
          2838,
          2332,
          1782,
          1371,
          1058,
          817,
          582,
          480,
          335,
          273,
          203,
          152,
          126
         ],
         "yaxis": "y"
        }
       ],
       "layout": {
        "legend": {
         "tracegroupgap": 0
        },
        "template": {
         "data": {
          "bar": [
           {
            "error_x": {
             "color": "#2a3f5f"
            },
            "error_y": {
             "color": "#2a3f5f"
            },
            "marker": {
             "line": {
              "color": "#E5ECF6",
              "width": 0.5
             },
             "pattern": {
              "fillmode": "overlay",
              "size": 10,
              "solidity": 0.2
             }
            },
            "type": "bar"
           }
          ],
          "barpolar": [
           {
            "marker": {
             "line": {
              "color": "#E5ECF6",
              "width": 0.5
             },
             "pattern": {
              "fillmode": "overlay",
              "size": 10,
              "solidity": 0.2
             }
            },
            "type": "barpolar"
           }
          ],
          "carpet": [
           {
            "aaxis": {
             "endlinecolor": "#2a3f5f",
             "gridcolor": "white",
             "linecolor": "white",
             "minorgridcolor": "white",
             "startlinecolor": "#2a3f5f"
            },
            "baxis": {
             "endlinecolor": "#2a3f5f",
             "gridcolor": "white",
             "linecolor": "white",
             "minorgridcolor": "white",
             "startlinecolor": "#2a3f5f"
            },
            "type": "carpet"
           }
          ],
          "choropleth": [
           {
            "colorbar": {
             "outlinewidth": 0,
             "ticks": ""
            },
            "type": "choropleth"
           }
          ],
          "contour": [
           {
            "colorbar": {
             "outlinewidth": 0,
             "ticks": ""
            },
            "colorscale": [
             [
              0,
              "#0d0887"
             ],
             [
              0.1111111111111111,
              "#46039f"
             ],
             [
              0.2222222222222222,
              "#7201a8"
             ],
             [
              0.3333333333333333,
              "#9c179e"
             ],
             [
              0.4444444444444444,
              "#bd3786"
             ],
             [
              0.5555555555555556,
              "#d8576b"
             ],
             [
              0.6666666666666666,
              "#ed7953"
             ],
             [
              0.7777777777777778,
              "#fb9f3a"
             ],
             [
              0.8888888888888888,
              "#fdca26"
             ],
             [
              1,
              "#f0f921"
             ]
            ],
            "type": "contour"
           }
          ],
          "contourcarpet": [
           {
            "colorbar": {
             "outlinewidth": 0,
             "ticks": ""
            },
            "type": "contourcarpet"
           }
          ],
          "heatmap": [
           {
            "colorbar": {
             "outlinewidth": 0,
             "ticks": ""
            },
            "colorscale": [
             [
              0,
              "#0d0887"
             ],
             [
              0.1111111111111111,
              "#46039f"
             ],
             [
              0.2222222222222222,
              "#7201a8"
             ],
             [
              0.3333333333333333,
              "#9c179e"
             ],
             [
              0.4444444444444444,
              "#bd3786"
             ],
             [
              0.5555555555555556,
              "#d8576b"
             ],
             [
              0.6666666666666666,
              "#ed7953"
             ],
             [
              0.7777777777777778,
              "#fb9f3a"
             ],
             [
              0.8888888888888888,
              "#fdca26"
             ],
             [
              1,
              "#f0f921"
             ]
            ],
            "type": "heatmap"
           }
          ],
          "heatmapgl": [
           {
            "colorbar": {
             "outlinewidth": 0,
             "ticks": ""
            },
            "colorscale": [
             [
              0,
              "#0d0887"
             ],
             [
              0.1111111111111111,
              "#46039f"
             ],
             [
              0.2222222222222222,
              "#7201a8"
             ],
             [
              0.3333333333333333,
              "#9c179e"
             ],
             [
              0.4444444444444444,
              "#bd3786"
             ],
             [
              0.5555555555555556,
              "#d8576b"
             ],
             [
              0.6666666666666666,
              "#ed7953"
             ],
             [
              0.7777777777777778,
              "#fb9f3a"
             ],
             [
              0.8888888888888888,
              "#fdca26"
             ],
             [
              1,
              "#f0f921"
             ]
            ],
            "type": "heatmapgl"
           }
          ],
          "histogram": [
           {
            "marker": {
             "pattern": {
              "fillmode": "overlay",
              "size": 10,
              "solidity": 0.2
             }
            },
            "type": "histogram"
           }
          ],
          "histogram2d": [
           {
            "colorbar": {
             "outlinewidth": 0,
             "ticks": ""
            },
            "colorscale": [
             [
              0,
              "#0d0887"
             ],
             [
              0.1111111111111111,
              "#46039f"
             ],
             [
              0.2222222222222222,
              "#7201a8"
             ],
             [
              0.3333333333333333,
              "#9c179e"
             ],
             [
              0.4444444444444444,
              "#bd3786"
             ],
             [
              0.5555555555555556,
              "#d8576b"
             ],
             [
              0.6666666666666666,
              "#ed7953"
             ],
             [
              0.7777777777777778,
              "#fb9f3a"
             ],
             [
              0.8888888888888888,
              "#fdca26"
             ],
             [
              1,
              "#f0f921"
             ]
            ],
            "type": "histogram2d"
           }
          ],
          "histogram2dcontour": [
           {
            "colorbar": {
             "outlinewidth": 0,
             "ticks": ""
            },
            "colorscale": [
             [
              0,
              "#0d0887"
             ],
             [
              0.1111111111111111,
              "#46039f"
             ],
             [
              0.2222222222222222,
              "#7201a8"
             ],
             [
              0.3333333333333333,
              "#9c179e"
             ],
             [
              0.4444444444444444,
              "#bd3786"
             ],
             [
              0.5555555555555556,
              "#d8576b"
             ],
             [
              0.6666666666666666,
              "#ed7953"
             ],
             [
              0.7777777777777778,
              "#fb9f3a"
             ],
             [
              0.8888888888888888,
              "#fdca26"
             ],
             [
              1,
              "#f0f921"
             ]
            ],
            "type": "histogram2dcontour"
           }
          ],
          "mesh3d": [
           {
            "colorbar": {
             "outlinewidth": 0,
             "ticks": ""
            },
            "type": "mesh3d"
           }
          ],
          "parcoords": [
           {
            "line": {
             "colorbar": {
              "outlinewidth": 0,
              "ticks": ""
             }
            },
            "type": "parcoords"
           }
          ],
          "pie": [
           {
            "automargin": true,
            "type": "pie"
           }
          ],
          "scatter": [
           {
            "fillpattern": {
             "fillmode": "overlay",
             "size": 10,
             "solidity": 0.2
            },
            "type": "scatter"
           }
          ],
          "scatter3d": [
           {
            "line": {
             "colorbar": {
              "outlinewidth": 0,
              "ticks": ""
             }
            },
            "marker": {
             "colorbar": {
              "outlinewidth": 0,
              "ticks": ""
             }
            },
            "type": "scatter3d"
           }
          ],
          "scattercarpet": [
           {
            "marker": {
             "colorbar": {
              "outlinewidth": 0,
              "ticks": ""
             }
            },
            "type": "scattercarpet"
           }
          ],
          "scattergeo": [
           {
            "marker": {
             "colorbar": {
              "outlinewidth": 0,
              "ticks": ""
             }
            },
            "type": "scattergeo"
           }
          ],
          "scattergl": [
           {
            "marker": {
             "colorbar": {
              "outlinewidth": 0,
              "ticks": ""
             }
            },
            "type": "scattergl"
           }
          ],
          "scattermapbox": [
           {
            "marker": {
             "colorbar": {
              "outlinewidth": 0,
              "ticks": ""
             }
            },
            "type": "scattermapbox"
           }
          ],
          "scatterpolar": [
           {
            "marker": {
             "colorbar": {
              "outlinewidth": 0,
              "ticks": ""
             }
            },
            "type": "scatterpolar"
           }
          ],
          "scatterpolargl": [
           {
            "marker": {
             "colorbar": {
              "outlinewidth": 0,
              "ticks": ""
             }
            },
            "type": "scatterpolargl"
           }
          ],
          "scatterternary": [
           {
            "marker": {
             "colorbar": {
              "outlinewidth": 0,
              "ticks": ""
             }
            },
            "type": "scatterternary"
           }
          ],
          "surface": [
           {
            "colorbar": {
             "outlinewidth": 0,
             "ticks": ""
            },
            "colorscale": [
             [
              0,
              "#0d0887"
             ],
             [
              0.1111111111111111,
              "#46039f"
             ],
             [
              0.2222222222222222,
              "#7201a8"
             ],
             [
              0.3333333333333333,
              "#9c179e"
             ],
             [
              0.4444444444444444,
              "#bd3786"
             ],
             [
              0.5555555555555556,
              "#d8576b"
             ],
             [
              0.6666666666666666,
              "#ed7953"
             ],
             [
              0.7777777777777778,
              "#fb9f3a"
             ],
             [
              0.8888888888888888,
              "#fdca26"
             ],
             [
              1,
              "#f0f921"
             ]
            ],
            "type": "surface"
           }
          ],
          "table": [
           {
            "cells": {
             "fill": {
              "color": "#EBF0F8"
             },
             "line": {
              "color": "white"
             }
            },
            "header": {
             "fill": {
              "color": "#C8D4E3"
             },
             "line": {
              "color": "white"
             }
            },
            "type": "table"
           }
          ]
         },
         "layout": {
          "annotationdefaults": {
           "arrowcolor": "#2a3f5f",
           "arrowhead": 0,
           "arrowwidth": 1
          },
          "autotypenumbers": "strict",
          "coloraxis": {
           "colorbar": {
            "outlinewidth": 0,
            "ticks": ""
           }
          },
          "colorscale": {
           "diverging": [
            [
             0,
             "#8e0152"
            ],
            [
             0.1,
             "#c51b7d"
            ],
            [
             0.2,
             "#de77ae"
            ],
            [
             0.3,
             "#f1b6da"
            ],
            [
             0.4,
             "#fde0ef"
            ],
            [
             0.5,
             "#f7f7f7"
            ],
            [
             0.6,
             "#e6f5d0"
            ],
            [
             0.7,
             "#b8e186"
            ],
            [
             0.8,
             "#7fbc41"
            ],
            [
             0.9,
             "#4d9221"
            ],
            [
             1,
             "#276419"
            ]
           ],
           "sequential": [
            [
             0,
             "#0d0887"
            ],
            [
             0.1111111111111111,
             "#46039f"
            ],
            [
             0.2222222222222222,
             "#7201a8"
            ],
            [
             0.3333333333333333,
             "#9c179e"
            ],
            [
             0.4444444444444444,
             "#bd3786"
            ],
            [
             0.5555555555555556,
             "#d8576b"
            ],
            [
             0.6666666666666666,
             "#ed7953"
            ],
            [
             0.7777777777777778,
             "#fb9f3a"
            ],
            [
             0.8888888888888888,
             "#fdca26"
            ],
            [
             1,
             "#f0f921"
            ]
           ],
           "sequentialminus": [
            [
             0,
             "#0d0887"
            ],
            [
             0.1111111111111111,
             "#46039f"
            ],
            [
             0.2222222222222222,
             "#7201a8"
            ],
            [
             0.3333333333333333,
             "#9c179e"
            ],
            [
             0.4444444444444444,
             "#bd3786"
            ],
            [
             0.5555555555555556,
             "#d8576b"
            ],
            [
             0.6666666666666666,
             "#ed7953"
            ],
            [
             0.7777777777777778,
             "#fb9f3a"
            ],
            [
             0.8888888888888888,
             "#fdca26"
            ],
            [
             1,
             "#f0f921"
            ]
           ]
          },
          "colorway": [
           "#636efa",
           "#EF553B",
           "#00cc96",
           "#ab63fa",
           "#FFA15A",
           "#19d3f3",
           "#FF6692",
           "#B6E880",
           "#FF97FF",
           "#FECB52"
          ],
          "font": {
           "color": "#2a3f5f"
          },
          "geo": {
           "bgcolor": "white",
           "lakecolor": "white",
           "landcolor": "#E5ECF6",
           "showlakes": true,
           "showland": true,
           "subunitcolor": "white"
          },
          "hoverlabel": {
           "align": "left"
          },
          "hovermode": "closest",
          "mapbox": {
           "style": "light"
          },
          "paper_bgcolor": "white",
          "plot_bgcolor": "#E5ECF6",
          "polar": {
           "angularaxis": {
            "gridcolor": "white",
            "linecolor": "white",
            "ticks": ""
           },
           "bgcolor": "#E5ECF6",
           "radialaxis": {
            "gridcolor": "white",
            "linecolor": "white",
            "ticks": ""
           }
          },
          "scene": {
           "xaxis": {
            "backgroundcolor": "#E5ECF6",
            "gridcolor": "white",
            "gridwidth": 2,
            "linecolor": "white",
            "showbackground": true,
            "ticks": "",
            "zerolinecolor": "white"
           },
           "yaxis": {
            "backgroundcolor": "#E5ECF6",
            "gridcolor": "white",
            "gridwidth": 2,
            "linecolor": "white",
            "showbackground": true,
            "ticks": "",
            "zerolinecolor": "white"
           },
           "zaxis": {
            "backgroundcolor": "#E5ECF6",
            "gridcolor": "white",
            "gridwidth": 2,
            "linecolor": "white",
            "showbackground": true,
            "ticks": "",
            "zerolinecolor": "white"
           }
          },
          "shapedefaults": {
           "line": {
            "color": "#2a3f5f"
           }
          },
          "ternary": {
           "aaxis": {
            "gridcolor": "white",
            "linecolor": "white",
            "ticks": ""
           },
           "baxis": {
            "gridcolor": "white",
            "linecolor": "white",
            "ticks": ""
           },
           "bgcolor": "#E5ECF6",
           "caxis": {
            "gridcolor": "white",
            "linecolor": "white",
            "ticks": ""
           }
          },
          "title": {
           "x": 0.05
          },
          "xaxis": {
           "automargin": true,
           "gridcolor": "white",
           "linecolor": "white",
           "ticks": "",
           "title": {
            "standoff": 15
           },
           "zerolinecolor": "white",
           "zerolinewidth": 2
          },
          "yaxis": {
           "automargin": true,
           "gridcolor": "white",
           "linecolor": "white",
           "ticks": "",
           "title": {
            "standoff": 15
           },
           "zerolinecolor": "white",
           "zerolinewidth": 2
          }
         }
        },
        "title": {
         "text": "Scatter Plot: Positive Cases vs. Death Cases"
        },
        "xaxis": {
         "anchor": "y",
         "domain": [
          0,
          1
         ],
         "title": {
          "text": "Negative Cases"
         }
        },
        "yaxis": {
         "anchor": "x",
         "domain": [
          0,
          1
         ],
         "title": {
          "text": "Death Cases"
         }
        }
       }
      }
     },
     "metadata": {},
     "output_type": "display_data"
    },
    {
     "data": {
      "application/vnd.plotly.v1+json": {
       "config": {
        "plotlyServerURL": "https://plot.ly"
       },
       "data": [
        {
         "coloraxis": "coloraxis",
         "hovertemplate": "x: %{x}<br>y: %{y}<br>color: %{z}<extra></extra>",
         "name": "0",
         "type": "heatmap",
         "x": [
          "date",
          "positive",
          "negative",
          "hospitalizedCurrently",
          "death"
         ],
         "xaxis": "x",
         "y": [
          "date",
          "positive",
          "negative",
          "hospitalizedCurrently",
          "death"
         ],
         "yaxis": "y",
         "z": [
          [
           1,
           0.8828786488390348,
           0.7632296814817509,
           0.5166561260232374,
           0.8447831487668851
          ],
          [
           0.8828786488390348,
           1,
           0.963004197735958,
           0.6741961614799428,
           0.9820450056200571
          ],
          [
           0.7632296814817509,
           0.963004197735958,
           1,
           0.6631664030287935,
           0.974761381696036
          ],
          [
           0.5166561260232374,
           0.6741961614799428,
           0.6631664030287935,
           1,
           0.6095103570120382
          ],
          [
           0.8447831487668851,
           0.9820450056200571,
           0.974761381696036,
           0.6095103570120382,
           1
          ]
         ]
        }
       ],
       "layout": {
        "coloraxis": {
         "cmax": 1,
         "cmin": -1,
         "colorscale": [
          [
           0,
           "#440154"
          ],
          [
           0.1111111111111111,
           "#482878"
          ],
          [
           0.2222222222222222,
           "#3e4989"
          ],
          [
           0.3333333333333333,
           "#31688e"
          ],
          [
           0.4444444444444444,
           "#26828e"
          ],
          [
           0.5555555555555556,
           "#1f9e89"
          ],
          [
           0.6666666666666666,
           "#35b779"
          ],
          [
           0.7777777777777778,
           "#6ece58"
          ],
          [
           0.8888888888888888,
           "#b5de2b"
          ],
          [
           1,
           "#fde725"
          ]
         ]
        },
        "template": {
         "data": {
          "bar": [
           {
            "error_x": {
             "color": "#2a3f5f"
            },
            "error_y": {
             "color": "#2a3f5f"
            },
            "marker": {
             "line": {
              "color": "#E5ECF6",
              "width": 0.5
             },
             "pattern": {
              "fillmode": "overlay",
              "size": 10,
              "solidity": 0.2
             }
            },
            "type": "bar"
           }
          ],
          "barpolar": [
           {
            "marker": {
             "line": {
              "color": "#E5ECF6",
              "width": 0.5
             },
             "pattern": {
              "fillmode": "overlay",
              "size": 10,
              "solidity": 0.2
             }
            },
            "type": "barpolar"
           }
          ],
          "carpet": [
           {
            "aaxis": {
             "endlinecolor": "#2a3f5f",
             "gridcolor": "white",
             "linecolor": "white",
             "minorgridcolor": "white",
             "startlinecolor": "#2a3f5f"
            },
            "baxis": {
             "endlinecolor": "#2a3f5f",
             "gridcolor": "white",
             "linecolor": "white",
             "minorgridcolor": "white",
             "startlinecolor": "#2a3f5f"
            },
            "type": "carpet"
           }
          ],
          "choropleth": [
           {
            "colorbar": {
             "outlinewidth": 0,
             "ticks": ""
            },
            "type": "choropleth"
           }
          ],
          "contour": [
           {
            "colorbar": {
             "outlinewidth": 0,
             "ticks": ""
            },
            "colorscale": [
             [
              0,
              "#0d0887"
             ],
             [
              0.1111111111111111,
              "#46039f"
             ],
             [
              0.2222222222222222,
              "#7201a8"
             ],
             [
              0.3333333333333333,
              "#9c179e"
             ],
             [
              0.4444444444444444,
              "#bd3786"
             ],
             [
              0.5555555555555556,
              "#d8576b"
             ],
             [
              0.6666666666666666,
              "#ed7953"
             ],
             [
              0.7777777777777778,
              "#fb9f3a"
             ],
             [
              0.8888888888888888,
              "#fdca26"
             ],
             [
              1,
              "#f0f921"
             ]
            ],
            "type": "contour"
           }
          ],
          "contourcarpet": [
           {
            "colorbar": {
             "outlinewidth": 0,
             "ticks": ""
            },
            "type": "contourcarpet"
           }
          ],
          "heatmap": [
           {
            "colorbar": {
             "outlinewidth": 0,
             "ticks": ""
            },
            "colorscale": [
             [
              0,
              "#0d0887"
             ],
             [
              0.1111111111111111,
              "#46039f"
             ],
             [
              0.2222222222222222,
              "#7201a8"
             ],
             [
              0.3333333333333333,
              "#9c179e"
             ],
             [
              0.4444444444444444,
              "#bd3786"
             ],
             [
              0.5555555555555556,
              "#d8576b"
             ],
             [
              0.6666666666666666,
              "#ed7953"
             ],
             [
              0.7777777777777778,
              "#fb9f3a"
             ],
             [
              0.8888888888888888,
              "#fdca26"
             ],
             [
              1,
              "#f0f921"
             ]
            ],
            "type": "heatmap"
           }
          ],
          "heatmapgl": [
           {
            "colorbar": {
             "outlinewidth": 0,
             "ticks": ""
            },
            "colorscale": [
             [
              0,
              "#0d0887"
             ],
             [
              0.1111111111111111,
              "#46039f"
             ],
             [
              0.2222222222222222,
              "#7201a8"
             ],
             [
              0.3333333333333333,
              "#9c179e"
             ],
             [
              0.4444444444444444,
              "#bd3786"
             ],
             [
              0.5555555555555556,
              "#d8576b"
             ],
             [
              0.6666666666666666,
              "#ed7953"
             ],
             [
              0.7777777777777778,
              "#fb9f3a"
             ],
             [
              0.8888888888888888,
              "#fdca26"
             ],
             [
              1,
              "#f0f921"
             ]
            ],
            "type": "heatmapgl"
           }
          ],
          "histogram": [
           {
            "marker": {
             "pattern": {
              "fillmode": "overlay",
              "size": 10,
              "solidity": 0.2
             }
            },
            "type": "histogram"
           }
          ],
          "histogram2d": [
           {
            "colorbar": {
             "outlinewidth": 0,
             "ticks": ""
            },
            "colorscale": [
             [
              0,
              "#0d0887"
             ],
             [
              0.1111111111111111,
              "#46039f"
             ],
             [
              0.2222222222222222,
              "#7201a8"
             ],
             [
              0.3333333333333333,
              "#9c179e"
             ],
             [
              0.4444444444444444,
              "#bd3786"
             ],
             [
              0.5555555555555556,
              "#d8576b"
             ],
             [
              0.6666666666666666,
              "#ed7953"
             ],
             [
              0.7777777777777778,
              "#fb9f3a"
             ],
             [
              0.8888888888888888,
              "#fdca26"
             ],
             [
              1,
              "#f0f921"
             ]
            ],
            "type": "histogram2d"
           }
          ],
          "histogram2dcontour": [
           {
            "colorbar": {
             "outlinewidth": 0,
             "ticks": ""
            },
            "colorscale": [
             [
              0,
              "#0d0887"
             ],
             [
              0.1111111111111111,
              "#46039f"
             ],
             [
              0.2222222222222222,
              "#7201a8"
             ],
             [
              0.3333333333333333,
              "#9c179e"
             ],
             [
              0.4444444444444444,
              "#bd3786"
             ],
             [
              0.5555555555555556,
              "#d8576b"
             ],
             [
              0.6666666666666666,
              "#ed7953"
             ],
             [
              0.7777777777777778,
              "#fb9f3a"
             ],
             [
              0.8888888888888888,
              "#fdca26"
             ],
             [
              1,
              "#f0f921"
             ]
            ],
            "type": "histogram2dcontour"
           }
          ],
          "mesh3d": [
           {
            "colorbar": {
             "outlinewidth": 0,
             "ticks": ""
            },
            "type": "mesh3d"
           }
          ],
          "parcoords": [
           {
            "line": {
             "colorbar": {
              "outlinewidth": 0,
              "ticks": ""
             }
            },
            "type": "parcoords"
           }
          ],
          "pie": [
           {
            "automargin": true,
            "type": "pie"
           }
          ],
          "scatter": [
           {
            "fillpattern": {
             "fillmode": "overlay",
             "size": 10,
             "solidity": 0.2
            },
            "type": "scatter"
           }
          ],
          "scatter3d": [
           {
            "line": {
             "colorbar": {
              "outlinewidth": 0,
              "ticks": ""
             }
            },
            "marker": {
             "colorbar": {
              "outlinewidth": 0,
              "ticks": ""
             }
            },
            "type": "scatter3d"
           }
          ],
          "scattercarpet": [
           {
            "marker": {
             "colorbar": {
              "outlinewidth": 0,
              "ticks": ""
             }
            },
            "type": "scattercarpet"
           }
          ],
          "scattergeo": [
           {
            "marker": {
             "colorbar": {
              "outlinewidth": 0,
              "ticks": ""
             }
            },
            "type": "scattergeo"
           }
          ],
          "scattergl": [
           {
            "marker": {
             "colorbar": {
              "outlinewidth": 0,
              "ticks": ""
             }
            },
            "type": "scattergl"
           }
          ],
          "scattermapbox": [
           {
            "marker": {
             "colorbar": {
              "outlinewidth": 0,
              "ticks": ""
             }
            },
            "type": "scattermapbox"
           }
          ],
          "scatterpolar": [
           {
            "marker": {
             "colorbar": {
              "outlinewidth": 0,
              "ticks": ""
             }
            },
            "type": "scatterpolar"
           }
          ],
          "scatterpolargl": [
           {
            "marker": {
             "colorbar": {
              "outlinewidth": 0,
              "ticks": ""
             }
            },
            "type": "scatterpolargl"
           }
          ],
          "scatterternary": [
           {
            "marker": {
             "colorbar": {
              "outlinewidth": 0,
              "ticks": ""
             }
            },
            "type": "scatterternary"
           }
          ],
          "surface": [
           {
            "colorbar": {
             "outlinewidth": 0,
             "ticks": ""
            },
            "colorscale": [
             [
              0,
              "#0d0887"
             ],
             [
              0.1111111111111111,
              "#46039f"
             ],
             [
              0.2222222222222222,
              "#7201a8"
             ],
             [
              0.3333333333333333,
              "#9c179e"
             ],
             [
              0.4444444444444444,
              "#bd3786"
             ],
             [
              0.5555555555555556,
              "#d8576b"
             ],
             [
              0.6666666666666666,
              "#ed7953"
             ],
             [
              0.7777777777777778,
              "#fb9f3a"
             ],
             [
              0.8888888888888888,
              "#fdca26"
             ],
             [
              1,
              "#f0f921"
             ]
            ],
            "type": "surface"
           }
          ],
          "table": [
           {
            "cells": {
             "fill": {
              "color": "#EBF0F8"
             },
             "line": {
              "color": "white"
             }
            },
            "header": {
             "fill": {
              "color": "#C8D4E3"
             },
             "line": {
              "color": "white"
             }
            },
            "type": "table"
           }
          ]
         },
         "layout": {
          "annotationdefaults": {
           "arrowcolor": "#2a3f5f",
           "arrowhead": 0,
           "arrowwidth": 1
          },
          "autotypenumbers": "strict",
          "coloraxis": {
           "colorbar": {
            "outlinewidth": 0,
            "ticks": ""
           }
          },
          "colorscale": {
           "diverging": [
            [
             0,
             "#8e0152"
            ],
            [
             0.1,
             "#c51b7d"
            ],
            [
             0.2,
             "#de77ae"
            ],
            [
             0.3,
             "#f1b6da"
            ],
            [
             0.4,
             "#fde0ef"
            ],
            [
             0.5,
             "#f7f7f7"
            ],
            [
             0.6,
             "#e6f5d0"
            ],
            [
             0.7,
             "#b8e186"
            ],
            [
             0.8,
             "#7fbc41"
            ],
            [
             0.9,
             "#4d9221"
            ],
            [
             1,
             "#276419"
            ]
           ],
           "sequential": [
            [
             0,
             "#0d0887"
            ],
            [
             0.1111111111111111,
             "#46039f"
            ],
            [
             0.2222222222222222,
             "#7201a8"
            ],
            [
             0.3333333333333333,
             "#9c179e"
            ],
            [
             0.4444444444444444,
             "#bd3786"
            ],
            [
             0.5555555555555556,
             "#d8576b"
            ],
            [
             0.6666666666666666,
             "#ed7953"
            ],
            [
             0.7777777777777778,
             "#fb9f3a"
            ],
            [
             0.8888888888888888,
             "#fdca26"
            ],
            [
             1,
             "#f0f921"
            ]
           ],
           "sequentialminus": [
            [
             0,
             "#0d0887"
            ],
            [
             0.1111111111111111,
             "#46039f"
            ],
            [
             0.2222222222222222,
             "#7201a8"
            ],
            [
             0.3333333333333333,
             "#9c179e"
            ],
            [
             0.4444444444444444,
             "#bd3786"
            ],
            [
             0.5555555555555556,
             "#d8576b"
            ],
            [
             0.6666666666666666,
             "#ed7953"
            ],
            [
             0.7777777777777778,
             "#fb9f3a"
            ],
            [
             0.8888888888888888,
             "#fdca26"
            ],
            [
             1,
             "#f0f921"
            ]
           ]
          },
          "colorway": [
           "#636efa",
           "#EF553B",
           "#00cc96",
           "#ab63fa",
           "#FFA15A",
           "#19d3f3",
           "#FF6692",
           "#B6E880",
           "#FF97FF",
           "#FECB52"
          ],
          "font": {
           "color": "#2a3f5f"
          },
          "geo": {
           "bgcolor": "white",
           "lakecolor": "white",
           "landcolor": "#E5ECF6",
           "showlakes": true,
           "showland": true,
           "subunitcolor": "white"
          },
          "hoverlabel": {
           "align": "left"
          },
          "hovermode": "closest",
          "mapbox": {
           "style": "light"
          },
          "paper_bgcolor": "white",
          "plot_bgcolor": "#E5ECF6",
          "polar": {
           "angularaxis": {
            "gridcolor": "white",
            "linecolor": "white",
            "ticks": ""
           },
           "bgcolor": "#E5ECF6",
           "radialaxis": {
            "gridcolor": "white",
            "linecolor": "white",
            "ticks": ""
           }
          },
          "scene": {
           "xaxis": {
            "backgroundcolor": "#E5ECF6",
            "gridcolor": "white",
            "gridwidth": 2,
            "linecolor": "white",
            "showbackground": true,
            "ticks": "",
            "zerolinecolor": "white"
           },
           "yaxis": {
            "backgroundcolor": "#E5ECF6",
            "gridcolor": "white",
            "gridwidth": 2,
            "linecolor": "white",
            "showbackground": true,
            "ticks": "",
            "zerolinecolor": "white"
           },
           "zaxis": {
            "backgroundcolor": "#E5ECF6",
            "gridcolor": "white",
            "gridwidth": 2,
            "linecolor": "white",
            "showbackground": true,
            "ticks": "",
            "zerolinecolor": "white"
           }
          },
          "shapedefaults": {
           "line": {
            "color": "#2a3f5f"
           }
          },
          "ternary": {
           "aaxis": {
            "gridcolor": "white",
            "linecolor": "white",
            "ticks": ""
           },
           "baxis": {
            "gridcolor": "white",
            "linecolor": "white",
            "ticks": ""
           },
           "bgcolor": "#E5ECF6",
           "caxis": {
            "gridcolor": "white",
            "linecolor": "white",
            "ticks": ""
           }
          },
          "title": {
           "x": 0.05
          },
          "xaxis": {
           "automargin": true,
           "gridcolor": "white",
           "linecolor": "white",
           "ticks": "",
           "title": {
            "standoff": 15
           },
           "zerolinecolor": "white",
           "zerolinewidth": 2
          },
          "yaxis": {
           "automargin": true,
           "gridcolor": "white",
           "linecolor": "white",
           "ticks": "",
           "title": {
            "standoff": 15
           },
           "zerolinecolor": "white",
           "zerolinewidth": 2
          }
         }
        },
        "title": {
         "text": "Correlation Heatmap"
        },
        "xaxis": {
         "anchor": "y",
         "constrain": "domain",
         "domain": [
          0,
          1
         ],
         "scaleanchor": "y",
         "title": {
          "text": "Variables"
         }
        },
        "yaxis": {
         "anchor": "x",
         "autorange": "reversed",
         "constrain": "domain",
         "domain": [
          0,
          1
         ],
         "title": {
          "text": "Variables"
         }
        }
       }
      }
     },
     "metadata": {},
     "output_type": "display_data"
    }
   ],
   "source": [
    "# Histogram: Visualize the distribution of positive cases\n",
    "fig_histogram = px.histogram(dt, x='positive', nbins=20, histnorm='probability', title='Distribution of Positive COVID-19 Cases')\n",
    "fig_histogram.update_layout(xaxis_title='Positive Cases', yaxis_title='Probability')\n",
    "fig_histogram.show()\n",
    "\n",
    "# Scatter Plot: Visualize the relationship between positive cases and death cases\n",
    "fig_scatter = px.scatter(dt, x='positive', y='death', title='Scatter Plot: Positive Cases vs. Death Cases')\n",
    "fig_scatter.update_layout(xaxis_title='Positive Cases', yaxis_title='Death Cases')\n",
    "fig_scatter.show()\n",
    "\n",
    "# Scatter Plot: Visualize the relationship between negative cases and death cases\n",
    "fig_scatter = px.scatter(dt, x='negative', y='death', title='Scatter Plot: Positive Cases vs. Death Cases')\n",
    "fig_scatter.update_layout(xaxis_title='Negative Cases', yaxis_title='Death Cases')\n",
    "fig_scatter.show()\n",
    "\n",
    "# Heatmap: Visualize the correlation between variables\n",
    "fig_heatmap = px.imshow(dt.corr(), color_continuous_scale='Viridis', zmin=-1, zmax=1, title='Correlation Heatmap')\n",
    "fig_heatmap.update_layout(xaxis_title='Variables', yaxis_title='Variables')\n",
    "fig_heatmap.show()"
   ]
  },
  {
   "cell_type": "markdown",
   "metadata": {},
   "source": [
    "#### 6. Choose the best-suited supervised algorithm to predict the future number of cases. Use techniques such as train-test split, cross-validation, and grid search to optimize the model's performance."
   ]
  },
  {
   "cell_type": "code",
   "execution_count": 7,
   "metadata": {},
   "outputs": [
    {
     "name": "stdout",
     "output_type": "stream",
     "text": [
      "Best Model Parameters: {'fit_intercept': True}\n",
      "Mean Squared Error (on test set): 426272257.71851134\n",
      "R-squared (on test set): 0.9802203783320138\n",
      "Cross-Validation Mean Squared Error: 313531630.81324774\n",
      "Cross-Validation Standard Deviation: 111522789.41586937\n"
     ]
    }
   ],
   "source": [
    "# Step 1: Prepare the data\n",
    "X = dt.drop(['date', 'death'], axis = 1)\n",
    "y = dt['death']\n",
    "\n",
    "# Split the data into training and testing sets\n",
    "X_train, X_test, y_train, y_test = train_test_split(X, y, test_size=0.2, random_state=42)\n",
    "\n",
    "# Step 2: Initialize the Linear Regression model\n",
    "model = LinearRegression()\n",
    "\n",
    "# Step 3: Define the hyperparameter grid for grid search\n",
    "param_grid = {\n",
    "    'fit_intercept': [True, False],\n",
    "}\n",
    "\n",
    "# Step 4: Initialize GridSearchCV with 5-fold cross-validation\n",
    "grid_search = GridSearchCV(model, param_grid, cv=5, scoring='neg_mean_squared_error', n_jobs=-1)\n",
    "\n",
    "# Step 5: Fit the GridSearchCV on the training data\n",
    "grid_search.fit(X_train, y_train)\n",
    "\n",
    "# Step 6: Get the best model from the grid search\n",
    "best_model = grid_search.best_estimator_\n",
    "\n",
    "# Step 7: Perform cross-validation on the best model (Optional: You can also skip this step and directly proceed to Step 9)\n",
    "cv_scores = cross_val_score(best_model, X_train, y_train, cv=5, scoring='neg_mean_squared_error')\n",
    "\n",
    "# Step 8: Calculate mean and standard deviation of the cross-validation scores (Optional)\n",
    "cv_mean_score = np.mean(cv_scores)\n",
    "cv_std_score = np.std(cv_scores)\n",
    "\n",
    "# Step 9: Train the best model on the full training set\n",
    "best_model.fit(X_train, y_train)\n",
    "\n",
    "# Step 10: Make predictions using the best model on the test set\n",
    "y_pred = best_model.predict(X_test)\n",
    "\n",
    "# Step 11: Evaluate the best model's performance on the test set\n",
    "mse = mean_squared_error(y_test, y_pred)\n",
    "r_squared = r2_score(y_test, y_pred)\n",
    "\n",
    "print(\"Best Model Parameters:\", grid_search.best_params_)\n",
    "print(\"Mean Squared Error (on test set):\", mse)\n",
    "print(\"R-squared (on test set):\", r_squared)\n",
    "print(\"Cross-Validation Mean Squared Error:\", -cv_mean_score) \n",
    "print(\"Cross-Validation Standard Deviation:\", cv_std_score)  "
   ]
  },
  {
   "cell_type": "markdown",
   "metadata": {},
   "source": [
    "#### 7. Once you have chosen the best-suited model, deploy it using Streamlit. Create a user-friendly interface that allows users to input data and view the model's predictions."
   ]
  },
  {
   "cell_type": "code",
   "execution_count": 8,
   "metadata": {},
   "outputs": [
    {
     "data": {
      "text/plain": [
       "['best_model.h5']"
      ]
     },
     "execution_count": 8,
     "metadata": {},
     "output_type": "execute_result"
    }
   ],
   "source": [
    "# Save the trained model to an HDF5 file using joblib\n",
    "joblib.dump(best_model, 'best_model.h5')"
   ]
  },
  {
   "cell_type": "markdown",
   "metadata": {},
   "source": [
    "#### 8. Deploy your streamlit app with streamlit share"
   ]
  },
  {
   "cell_type": "markdown",
   "metadata": {},
   "source": [
    "The remaining steps will be performed in a python file"
   ]
  }
 ],
 "metadata": {
  "kernelspec": {
   "display_name": "mani",
   "language": "python",
   "name": "python3"
  },
  "language_info": {
   "codemirror_mode": {
    "name": "ipython",
    "version": 3
   },
   "file_extension": ".py",
   "mimetype": "text/x-python",
   "name": "python",
   "nbconvert_exporter": "python",
   "pygments_lexer": "ipython3",
   "version": "3.10.12"
  },
  "orig_nbformat": 4
 },
 "nbformat": 4,
 "nbformat_minor": 2
}
