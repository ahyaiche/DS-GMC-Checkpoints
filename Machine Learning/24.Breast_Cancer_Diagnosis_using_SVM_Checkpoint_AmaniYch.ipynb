{
 "cells": [
  {
   "cell_type": "markdown",
   "metadata": {},
   "source": [
    "# Checkpoint Objective\n",
    "Name : Breast Cancer Diagnosis using SVM\n",
    "\n",
    "Description: In this exercise, we will use the Support Vector Machine (SVM) algorithm to diagnose breast cancer using the breast cancer dataset provided by scikit-learn. SVM is a supervised learning algorithm that is commonly used for classification tasks.\n",
    "\n",
    "Statement: We will load the breast cancer dataset, split it into training and test sets, create an SVM model, fit it to the training set, predict the target variable using the test set, and finally calculate the accuracy and confusion matrix."
   ]
  },
  {
   "cell_type": "code",
   "execution_count": 1,
   "metadata": {},
   "outputs": [
    {
     "name": "stdout",
     "output_type": "stream",
     "text": [
      "SVM accuracy: 0.9298245614035088\n",
      "Confusion matrix: [[33  0]\n",
      " [ 8 73]]\n"
     ]
    }
   ],
   "source": [
    "#### 1. Import the necessary libraries: numpy, pandas, scikit-learn's load_breast_cancer, train_test_split, confusion_matrix, accuracy_score, and svm.\n",
    "import numpy as numpy\n",
    "import pandas as pd\n",
    "from sklearn.datasets import load_breast_cancer\n",
    "from sklearn.model_selection import train_test_split\n",
    "from sklearn.metrics import confusion_matrix, accuracy_score\n",
    "from sklearn.svm import SVC\n",
    "\n",
    "#### 2. Load the breast cancer dataset using load_breast_cancer() function.\n",
    "dt = load_breast_cancer()\n",
    "\n",
    "#### 3. Prepare the data by assigning features to dataset.data and target variables to dataset.target.\n",
    "x = dt.data\n",
    "y = dt.target\n",
    "\n",
    "#### 4. Split dataset into training and test sets\n",
    "x_train, x_test, y_train, y_test = train_test_split(x, y, test_size=0.2, random_state=123)\n",
    "\n",
    "#### 5. Create SVM model\n",
    "svm = SVC()\n",
    "\n",
    "#### 6. Fit model to training set\n",
    "svm.fit(x_train, y_train)\n",
    "\n",
    "#### 7. Predict target variable using test set\n",
    "y_pred = svm.predict(x_test)\n",
    "\n",
    "#### 8. Calculate accuracy and confusion matrix\n",
    "# Accuracy\n",
    "accuracy = accuracy_score(y_pred, y_test)\n",
    "# Confusion matrix\n",
    "confusion_mat = confusion_matrix(y_pred, y_test)\n",
    "\n",
    "#### 9. Print accuracy and confusion matrix\n",
    "# Accuracy\n",
    "print(f'SVM accuracy: {accuracy}')\n",
    "# Confusion matrix\n",
    "print(f'Confusion matrix: {confusion_mat}')"
   ]
  }
 ],
 "metadata": {
  "kernelspec": {
   "display_name": "mani",
   "language": "python",
   "name": "python3"
  },
  "language_info": {
   "codemirror_mode": {
    "name": "ipython",
    "version": 3
   },
   "file_extension": ".py",
   "mimetype": "text/x-python",
   "name": "python",
   "nbconvert_exporter": "python",
   "pygments_lexer": "ipython3",
   "version": "3.10.12"
  },
  "orig_nbformat": 4
 },
 "nbformat": 4,
 "nbformat_minor": 2
}
