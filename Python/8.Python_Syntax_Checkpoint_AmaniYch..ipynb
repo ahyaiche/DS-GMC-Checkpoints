1. Open a new file in your Python development environment or IDE.
2. Begin by typing the line 'Welcome to Python Pizza Deliveries' which will display a welcome message when the code is run.
print('Welcome to Python Pizza Deliveries')
3. Add a line that prompts the user for the size of the pizza they want using the input() function and stores the user's input in a variable named 'size'.
size = input('Enter the pizza size wanted (S: Small Pizza, M: Medium Pizza, L: Large Pizza)')
4. Add a line that prompts the user if they want pepperoni on their pizza using the input() function and stores the user's input in a variable named 'add_pepperoni'.
add_pepperoni = input('Do you want to put pepperoni on your pizza? (Y: Yes, N: No)')
5. Add a line that prompts the user if they want extra cheese on their pizza using the input() function and stores the user's input in a variable named 'extra_cheese'.
extra_cheese = input('Do you prefere your pizza with extra_cheese? (Y: Yes, N: No)')
6. Check your code for any syntax errors or mistakes.
7. Run the code and test it by providing inputs for size, pepperoni, and extra cheese.
# Bill of pepperoni
if add_pepperoni == 'Y' and size == 'S' :
    add_pepperoni = 2
elif add_pepperoni == 'Y' and (size == 'M' or size == 'L'):
    add_pepperoni = 3
else: add_pepperoni = 0

# Bill of size
if size == 'S' :
    size = 15
elif size == 'M' :
    size = 20
elif size == 'L' :
    size = 25
else: print('This size is not avaible')

# Bill of extra cheese
if extra_cheese == 'Y' :
    extra_cheese = 1
else: extra_cheese = 0

Final_bill = size + add_pepperoni + extra_cheese
print(f'Your final bill is: ${Final_bill}')
