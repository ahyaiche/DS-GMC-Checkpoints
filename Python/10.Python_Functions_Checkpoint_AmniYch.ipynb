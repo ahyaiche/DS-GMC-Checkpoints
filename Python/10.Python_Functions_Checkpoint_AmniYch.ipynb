{
 "cells": [
  {
   "attachments": {},
   "cell_type": "markdown",
   "metadata": {},
   "source": [
    "Instructions\n",
    "Create four basic mathematical functions: 'add', 'subtract', 'multiply', and 'divide' that take in two numbers and return the result of the operation.\n",
    "Create a dictionary 'operations' that assigns the functions to their corresponding operation symbols.\n",
    "Create a function 'calculator' that prompts the user to input the first number.\n",
    "Use a for loop to print the available operation symbols.\n",
    "Create a while loop that will continue to run until the user chooses to end the current calculation.\n",
    "Inside the while loop, prompt the user to select an operation symbol.\n",
    "Prompt the user to input the second number.\n",
    "Use the dictionary to retrieve the function that corresponds to the selected operation symbol and store it in a variable 'calculation_function'\n",
    "Perform the calculation by calling the 'calculation_function' on the two input numbers and store the result in a variable 'answer'.\n",
    "Print the equation and the result of the calculation.\n",
    "Ask the user if they would like to continue using the result as the first number for further calculations.\n",
    "If the user chooses to continue, update the 'num1' variable to the value of 'answer'.\n",
    "If the user chooses to start a new calculation, set the 'should_continue' variable to false and call the 'calculator' function to start a new calculation.\n",
    "Note: Make sure to test the program with different inputs and operations to ensure that it is functioning properly."
   ]
  },
  {
   "attachments": {},
   "cell_type": "markdown",
   "metadata": {},
   "source": [
    "1. Create four basic mathematical functions: 'add', 'subtract', 'multiply', and 'divide' that take in two numbers and return the result of the operation."
   ]
  },
  {
   "cell_type": "code",
   "execution_count": 1,
   "metadata": {},
   "outputs": [],
   "source": [
    "# Define add function\n",
    "def add(a,b):\n",
    "    return a + b\n",
    "\n",
    "def subtract(a,b):\n",
    "    return a - b\n",
    "\n",
    "def multiply(a,b):\n",
    "    return a * b\n",
    "\n",
    "def divide(a,b):\n",
    "    return a / b"
   ]
  }
 ],
 "metadata": {
  "kernelspec": {
   "display_name": "mani",
   "language": "python",
   "name": "python3"
  },
  "language_info": {
   "codemirror_mode": {
    "name": "ipython",
    "version": 3
   },
   "file_extension": ".py",
   "mimetype": "text/x-python",
   "name": "python",
   "nbconvert_exporter": "python",
   "pygments_lexer": "ipython3",
   "version": "3.10.9"
  },
  "orig_nbformat": 4
 },
 "nbformat": 4,
 "nbformat_minor": 2
}
