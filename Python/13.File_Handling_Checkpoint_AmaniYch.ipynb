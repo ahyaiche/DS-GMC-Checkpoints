{
 "cells": [
  {
   "cell_type": "code",
   "execution_count": 45,
   "metadata": {},
   "outputs": [],
   "source": [
    "# 1. Begin by importing the necessary libraries, numpy.\n",
    "import numpy as np\n",
    "\n",
    "# 2. Use the open() function to open the lending_company.csv file and assign the result to a variable.\n",
    "file = open(r'D:\\DataScience\\CheckPoints\\DS-GMC-Checkpoints\\Python\\13.Lending_Company_Saving.csv', 'r')\n",
    "\n",
    "# Use the delimiter parameter in the genfromtxt() function to specify that the values in the file are separated by commas.\n",
    "data = np.genfromtxt(file, delimiter=\",\")\n",
    "\n",
    "# Be sure to close the file after you have finished reading it in with the open() function.\n",
    "file.close()\n",
    "\n",
    "# 3. Use the numpy array to perform some basic statistical analysis on the data, \n",
    "## such as finding the mean, median, and standard deviation of the loan amounts.\n",
    "\n",
    "# You can use the numpy functions mean(), median(), and std() to find the mean, median, and standard deviation of the loan amounts.\n",
    "mean = np.mean(data[:, 6])\n",
    "median = np.median(data[:, 6])\n",
    "std = np.std(data[:, 6])"
   ]
  }
 ],
 "metadata": {
  "kernelspec": {
   "display_name": "mani",
   "language": "python",
   "name": "python3"
  },
  "language_info": {
   "codemirror_mode": {
    "name": "ipython",
    "version": 3
   },
   "file_extension": ".py",
   "mimetype": "text/x-python",
   "name": "python",
   "nbconvert_exporter": "python",
   "pygments_lexer": "ipython3",
   "version": "3.10.9"
  },
  "orig_nbformat": 4
 },
 "nbformat": 4,
 "nbformat_minor": 2
}
