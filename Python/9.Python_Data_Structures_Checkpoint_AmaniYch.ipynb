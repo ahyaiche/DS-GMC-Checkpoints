{
 "cells": [
  {
   "attachments": {},
   "cell_type": "markdown",
   "metadata": {},
   "source": [
    "1. Create a list named 'shopping_list' to store the items."
   ]
  },
  {
   "cell_type": "code",
   "execution_count": 43,
   "metadata": {},
   "outputs": [],
   "source": [
    "shopping_list = []"
   ]
  },
  {
   "attachments": {},
   "cell_type": "markdown",
   "metadata": {},
   "source": [
    "2. Use a while loop to create a menu of options for the user to add, remove, or view items from the list."
   ]
  },
  {
   "cell_type": "code",
   "execution_count": null,
   "metadata": {},
   "outputs": [],
   "source": [
    "while True:\n",
    "    print('Select an option from the menu:')\n",
    "    print('1. Add an item to the shopping list')\n",
    "    print('2. Remove an item from the shopping list')\n",
    "    print('3. View items from the shopping list')\n",
    "    break"
   ]
  },
  {
   "attachments": {},
   "cell_type": "markdown",
   "metadata": {},
   "source": [
    "3. Use the input() function to prompt the user to make a selection from the menu."
   ]
  },
  {
   "cell_type": "code",
   "execution_count": 45,
   "metadata": {},
   "outputs": [],
   "source": [
    "select = int(input('Enter a number of your choice from the menu'))"
   ]
  },
  {
   "attachments": {},
   "cell_type": "markdown",
   "metadata": {},
   "source": [
    "4. Use an if-elif-else block to determine the user's selection and perform the corresponding action."
   ]
  },
  {
   "attachments": {},
   "cell_type": "markdown",
   "metadata": {},
   "source": [
    "5. If the user selects 'add', use the input() function to prompt the user to enter an item to add to the list. Use the range() function to limit the number of items that can be added to the list."
   ]
  },
  {
   "attachments": {},
   "cell_type": "markdown",
   "metadata": {},
   "source": [
    "6. If the user selects 'remove', use the input() function to prompt the user to enter an item to remove from the list."
   ]
  },
  {
   "attachments": {},
   "cell_type": "markdown",
   "metadata": {},
   "source": [
    "7. If the user selects 'view', use a for loop to iterate through the list of items and display them to the user."
   ]
  },
  {
   "cell_type": "code",
   "execution_count": null,
   "metadata": {},
   "outputs": [],
   "source": [
    "if select == 1 :\n",
    "    if len(shopping_list) < 13 :\n",
    "        item = input('Enter an item to add')\n",
    "        shopping_list.append(item)\n",
    "        print(f'{item} is added to the shopping list')\n",
    "    else : print('The shopping list is full')\n",
    "elif select == 2 :\n",
    "    if len(shopping_list) == 0 :\n",
    "        print('The shopping list is empty')\n",
    "    else :\n",
    "        item = input('Enter an item to remove')\n",
    "        if item in shopping_list :\n",
    "            shopping_list.remove(item)\n",
    "            print(f'{item} is removed from the shopping list')\n",
    "        else :\n",
    "            print(f'{item} is not in the shopping list')\n",
    "elif select == 3 :\n",
    "    for item in shopping_list :\n",
    "        print(f'List of items: {item}')\n",
    "else : print('Invalid input')"
   ]
  },
  {
   "attachments": {},
   "cell_type": "markdown",
   "metadata": {},
   "source": [
    "8. Use the list, tuple, set, and dictionary data structures to store and manipulate the shopping items."
   ]
  },
  {
   "cell_type": "code",
   "execution_count": null,
   "metadata": {},
   "outputs": [],
   "source": [
    "# Using a tuple\n",
    "shopping_tuple = ()\n",
    "if select == 1 :\n",
    "    if len(shopping_tuple) < 13 :\n",
    "        item = input('Enter an item to add')\n",
    "        shopping_tuple += (item,)\n",
    "        print(f'{item} is added to the shopping tuple')\n",
    "    else : print('The shopping tuple is full')\n",
    "elif select == 2 :\n",
    "    if len(shopping_tuple) == 0 :\n",
    "        print('The shopping tuple is empty')\n",
    "    else :\n",
    "        item = input('Enter an item to remove')\n",
    "        if item in shopping_tuple :\n",
    "            items = list(shopping_tuple)\n",
    "            items.remove(item)\n",
    "            shopping_tuple = tuple(items)\n",
    "            print(f'{item} is removed from the shopping tuple')\n",
    "        else :\n",
    "            print(f'{item} is not in the shopping tuple')\n",
    "elif select == 3 :\n",
    "    for item in shopping_tuple :\n",
    "        print(f'List of items: {item}')\n",
    "else : print('Invalid input')"
   ]
  },
  {
   "cell_type": "code",
   "execution_count": null,
   "metadata": {},
   "outputs": [],
   "source": [
    "# Using a set \n",
    "shopping_set = set()\n",
    "if select == 1 :\n",
    "    if len(shopping_set) < 13 :\n",
    "        item = input('Enter an item to add')\n",
    "        shopping_set.add(item)\n",
    "        print(f'{item} is added to the shopping set')\n",
    "    else : print('The shopping set is full')\n",
    "elif select == 2 :\n",
    "    if len(shopping_set) == 0 :\n",
    "        print('The shopping set is empty')\n",
    "    else :\n",
    "        item = input('Enter an item to remove')\n",
    "        if item in shopping_set :\n",
    "            shopping_set.remove(item)\n",
    "            print(f'{item} is removed from the shopping set')\n",
    "        else :\n",
    "            print(f'{item} is not in the shopping set')\n",
    "elif select == 3 :\n",
    "    for item in shopping_set :\n",
    "        print(f'List of items: {item}')\n",
    "else : print('Invalid input')"
   ]
  },
  {
   "cell_type": "code",
   "execution_count": null,
   "metadata": {},
   "outputs": [],
   "source": [
    "# Using a dictionary\n",
    "shopping_dict = {}\n",
    "if select == 1 :\n",
    "    if len(shopping_dict) < 13 :\n",
    "        item = input('Enter an item to add')\n",
    "        quantity = int(input(\"Enter quantity: \"))\n",
    "        shopping_dict[item] = quantity\n",
    "        print(f'{quantity} {item} is added to the shopping dict')\n",
    "    else : print('The shopping dict is full')\n",
    "elif select == 2 :\n",
    "    if len(shopping_dict) == 0 :\n",
    "        print('The shopping dict is empty')\n",
    "    else :\n",
    "        item = input('Enter an item to remove')\n",
    "        if item in shopping_dict :\n",
    "            del shopping_dict[item]\n",
    "            print(f'{item} is removed from the shopping dict')\n",
    "        else :\n",
    "            print(f'{item} is not in the shopping dict')\n",
    "elif select == 3 :\n",
    "    for item, quantity in shopping_dict.items():\n",
    "        print(f'List of items: {quantity} {item}')\n",
    "else : print('Invalid input')1"
   ]
  }
 ],
 "metadata": {
  "kernelspec": {
   "display_name": "mani",
   "language": "python",
   "name": "python3"
  },
  "language_info": {
   "codemirror_mode": {
    "name": "ipython",
    "version": 3
   },
   "file_extension": ".py",
   "mimetype": "text/x-python",
   "name": "python",
   "nbconvert_exporter": "python",
   "pygments_lexer": "ipython3",
   "version": "3.10.9"
  },
  "orig_nbformat": 4
 },
 "nbformat": 4,
 "nbformat_minor": 2
}
