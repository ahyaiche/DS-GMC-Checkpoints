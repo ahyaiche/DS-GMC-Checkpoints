{
 "cells": [
  {
   "cell_type": "code",
   "execution_count": null,
   "metadata": {},
   "outputs": [],
   "source": [
    "# 1. Create a new file called \"bank_account.py\"\n",
    "\n",
    "# 2. Define the Account class and its attributes as specified:\n",
    "## Create a class called \"Account\" that has the following attributes:\n",
    "### account_number (string)\n",
    "### account_balance (float)\n",
    "### account_holder (string)\n",
    "class Account :\n",
    "    def __init__(self, account_number: str, account_balance: float, account_holder: str) :\n",
    "        self.account_number = account_number\n",
    "        self.account_balance = account_balance\n",
    "        self.account_holder = account_holder\n",
    "\n",
    "    # 3. Define the deposit() method. It should take in one argument, the amount (float) to be deposited, and add it to the account balance.\n",
    "    def deposit(self, amount: float):\n",
    "        self.account_balance += amount\n",
    "    \n",
    "    # 4. Define the withdraw() method. It should take in one argument, the amount (float) to be withdrawn, and subtract it from the account balance.\n",
    "    ##  The method should only execute the withdrawal if the account balance is greater than or equal to the amount to be withdrawn.\n",
    "    def withdraw(self, amount: float):\n",
    "        if self.account_balance >= amount:\n",
    "            self.account_balance -= amount\n",
    "        else:\n",
    "            print('Insufficient balance')\n",
    "\n",
    "    # 5. Define the check_balance() method. It should return the current account balance.\n",
    "    def check_balance(self):\n",
    "        print(f'The current account balance of {self.account_holder} is: {self.account_balance}\\n')\n",
    "\n",
    "# 6. Create an instance of the Account class, and assign it to a variable called \"my_account\".\n",
    "my_account = Account('232014042023', 2400000, 'Tom')\n",
    "\n",
    "# 7. Use the methods of the class to deposit and withdraw money from the account, and check the account balance.\n",
    "my_account.deposit(110000)\n",
    "my_account.withdraw(600000)\n",
    "my_account.check_balance()\n",
    "\n",
    "# 8. Test the program by creating multiple instances of the class and performing different transactions on them.\n",
    "my_account1 = Account('080314042023', 400000, 'Chris')\n",
    "my_account1.deposit(10000)\n",
    "my_account1.withdraw(60000)\n",
    "my_account1.check_balance()\n",
    "\n",
    "my_account2 = Account('140714042023', 13000000, 'Gabriel')\n",
    "my_account2.deposit(190000)\n",
    "my_account2.withdraw(30000)\n",
    "my_account2.check_balance()"
   ]
  }
 ],
 "metadata": {
  "kernelspec": {
   "display_name": "mani",
   "language": "python",
   "name": "python3"
  },
  "language_info": {
   "name": "python",
   "version": "3.10.9"
  },
  "orig_nbformat": 4
 },
 "nbformat": 4,
 "nbformat_minor": 2
}
