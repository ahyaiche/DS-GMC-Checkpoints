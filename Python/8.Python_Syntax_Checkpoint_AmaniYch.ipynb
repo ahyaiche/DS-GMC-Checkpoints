{
 "cells": [
  {
   "attachments": {},
   "cell_type": "markdown",
   "metadata": {},
   "source": [
    "1. Open a new file in your Python development environment or IDE."
   ]
  },
  {
   "attachments": {},
   "cell_type": "markdown",
   "metadata": {},
   "source": [
    "2. Begin by typing the line 'Welcome to Python Pizza Deliveries' which will display a welcome message when the code is run."
   ]
  },
  {
   "cell_type": "code",
   "execution_count": 1,
   "metadata": {},
   "outputs": [
    {
     "name": "stdout",
     "output_type": "stream",
     "text": [
      "Welcome to Python Pizza Deliveries\n"
     ]
    }
   ],
   "source": [
    "print('Welcome to Python Pizza Deliveries')"
   ]
  },
  {
   "attachments": {},
   "cell_type": "markdown",
   "metadata": {},
   "source": [
    "3. Add a line that prompts the user for the size of the pizza they want using the input() function and stores the user's input in a variable named 'size'."
   ]
  },
  {
   "cell_type": "code",
   "execution_count": 2,
   "metadata": {},
   "outputs": [],
   "source": [
    "size = input('Enter the pizza size wanted (S: Small Pizza, M: Medium Pizza, L: Large Pizza)')"
   ]
  },
  {
   "attachments": {},
   "cell_type": "markdown",
   "metadata": {},
   "source": [
    "4. Add a line that prompts the user if they want pepperoni on their pizza using the input() function and stores the user's input in a variable named 'add_pepperoni'."
   ]
  },
  {
   "cell_type": "code",
   "execution_count": 3,
   "metadata": {},
   "outputs": [],
   "source": [
    "add_pepperoni = input('Do you want to put pepperoni on your pizza? (Y: Yes, N: No)')"
   ]
  },
  {
   "attachments": {},
   "cell_type": "markdown",
   "metadata": {},
   "source": [
    "5. Add a line that prompts the user if they want extra cheese on their pizza using the input() function and stores the user's input in a variable named 'extra_cheese'."
   ]
  },
  {
   "cell_type": "code",
   "execution_count": 4,
   "metadata": {},
   "outputs": [],
   "source": [
    "extra_cheese = input('Do you prefere your pizza with extra_cheese? (Y: Yes, N: No)')"
   ]
  },
  {
   "attachments": {},
   "cell_type": "markdown",
   "metadata": {},
   "source": [
    "6. Check your code for any syntax errors or mistakes."
   ]
  },
  {
   "attachments": {},
   "cell_type": "markdown",
   "metadata": {},
   "source": [
    "7. Run the code and test it by providing inputs for size, pepperoni, and extra cheese."
   ]
  },
  {
   "cell_type": "code",
   "execution_count": 5,
   "metadata": {},
   "outputs": [],
   "source": [
    "# Bill of pepperoni\n",
    "if add_pepperoni == 'Y' and size == 'S' :\n",
    "    add_pepperoni = 2\n",
    "elif add_pepperoni == 'Y' and (size == 'M' or size == 'L'):\n",
    "    add_pepperoni = 3\n",
    "else: add_pepperoni = 0\n",
    "\n",
    "# Bill of size\n",
    "if size == 'S' :\n",
    "    size = 15\n",
    "elif size == 'M' :\n",
    "    size = 20\n",
    "elif size == 'L' :\n",
    "    size = 25\n",
    "else: print('This size is not avaible')\n",
    "\n",
    "# Bill of extra cheese\n",
    "if extra_cheese == 'Y' :\n",
    "    extra_cheese = 1\n",
    "else: extra_cheese = 0\n",
    "\n",
    "Final_bill = size + add_pepperoni + extra_cheese"
   ]
  },
  {
   "cell_type": "code",
   "execution_count": 6,
   "metadata": {},
   "outputs": [
    {
     "name": "stdout",
     "output_type": "stream",
     "text": [
      "Your final bill is: $28\n"
     ]
    }
   ],
   "source": [
    "print(f'Your final bill is: ${Final_bill}')"
   ]
  }
 ],
 "metadata": {
  "kernelspec": {
   "display_name": "mani",
   "language": "python",
   "name": "python3"
  },
  "language_info": {
   "codemirror_mode": {
    "name": "ipython",
    "version": 3
   },
   "file_extension": ".py",
   "mimetype": "text/x-python",
   "name": "python",
   "nbconvert_exporter": "python",
   "pygments_lexer": "ipython3",
   "version": "3.10.9"
  },
  "orig_nbformat": 4
 },
 "nbformat": 4,
 "nbformat_minor": 2
}
