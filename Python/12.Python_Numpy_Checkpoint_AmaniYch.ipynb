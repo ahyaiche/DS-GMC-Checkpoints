{
 "cells": [
  {
   "cell_type": "code",
   "execution_count": null,
   "metadata": {},
   "outputs": [],
   "source": [
    "# 1. Create a new file called \"grades_analysis.py\"\n",
    "\n",
    "# 2. Import the numpy library and create the \"grades\" array as specified:\n",
    "## Create a numpy array called \"grades\" that contains the following grades: [85, 90, 88, 92, 95, 80, 75, 98, 89, 83]\n",
    "import numpy as np\n",
    "grades = np.array([85, 90, 88, 92, 95, 80, 75, 98, 89, 83])\n",
    "\n",
    "# 3. Use numpy functions to calculate the mean, median, and standard deviation of the grades.\n",
    "mean = np.mean(grades)\n",
    "median = np.median(grades)\n",
    "standard_deviation = np.std(grades)\n",
    "\n",
    "# 4. Use numpy function to find the maximum and minimum of the grades.\n",
    "maximum = np.max(grades)\n",
    "minimum = np.min(grades)\n",
    "\n",
    "# 5. Use numpy function to sort the grades in ascending order.\n",
    "asc_order = np.sort(grades)\n",
    "\n",
    "# 6. Use numpy function to find the index of the highest grade in the array.\n",
    "max_index = np.argmax(grades)\n",
    "\n",
    "# 7. Use numpy function to count the number of students who scored above 90.\n",
    "## Note: to extract the grades above 90 use grades[grades > 90]\n",
    "number_above90 = np.count_nonzero(grades > 90)\n",
    "\n",
    "# 8. Use numpy function to calculate the percentage of students who scored above 90.\n",
    "## Note: to calculate percentage use numpy.mean(grades > 90) * 100\n",
    "percentage_above90 = np.mean(grades > 90) * 100\n",
    "\n",
    "# 9. Use numpy function to calculate the percentage of students who scored below 75.\n",
    "percentage_below75 = np.mean(grades < 75) * 100\n",
    "\n",
    "# 10. Use numpy function to extract all the grades above 90 and put them in a new array called \"high_performers\".\n",
    "high_performers = grades[grades > 90]\n",
    "\n",
    "# 11. Create a new array called \"passing_grades\" that contains all the grades above 75.\n",
    "## Note: to extract the grades above 75 use grades[grades > 75]\n",
    "passing_grades = grades[grades > 75]\n",
    "\n",
    "# 12. Print the result of all the above steps.\n",
    "print(f'Grades: {grades}')\n",
    "print(f'mean = {mean}')\n",
    "print(f'median = {median}')\n",
    "print(f'standard_deviation = {standard_deviation}')\n",
    "print(f'maximum = {maximum}')\n",
    "print(f'minimum = {minimum}')\n",
    "print(f'Ascending order: {asc_order}')\n",
    "print(f'Index of highest grade: {max_index}')\n",
    "print(f'Students number scoring above 90: {number_above90}')\n",
    "print(f'Students percentage scoring above 90: {percentage_above90}')\n",
    "print(f'Students percentage scoring below 75: {percentage_below75}')\n",
    "print(f'Grades above 90: {high_performers}')\n",
    "print(f'Grades above 75: {passing_grades}')"
   ]
  }
 ],
 "metadata": {
  "kernelspec": {
   "display_name": "mani",
   "language": "python",
   "name": "python3"
  },
  "language_info": {
   "codemirror_mode": {
    "name": "ipython",
    "version": 3
   },
   "file_extension": ".py",
   "mimetype": "text/x-python",
   "name": "python",
   "nbconvert_exporter": "python",
   "pygments_lexer": "ipython3",
   "version": "3.10.9"
  },
  "orig_nbformat": 4
 },
 "nbformat": 4,
 "nbformat_minor": 2
}
